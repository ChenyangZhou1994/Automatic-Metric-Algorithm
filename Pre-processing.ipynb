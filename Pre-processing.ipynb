{
 "cells": [
  {
   "cell_type": "markdown",
   "source": [
    "# Pre-processing"
   ],
   "metadata": {
    "collapsed": false,
    "pycharm": {
     "name": "#%% md\n"
    }
   }
  },
  {
   "cell_type": "code",
   "execution_count": 115,
   "outputs": [],
   "source": [
    "import pandas as pd\n",
    "import re"
   ],
   "metadata": {
    "collapsed": false,
    "pycharm": {
     "name": "#%%\n"
    }
   }
  },
  {
   "cell_type": "code",
   "execution_count": 116,
   "outputs": [
    {
     "data": {
      "text/plain": "                             0    1\n0    3609032038_005c789f64.jpg  4.2\n1     241347204_007d83e252.jpg  3.4\n2    2774554310_007e980a90.jpg  3.6\n3    2431832075_00aa1a4457.jpg  4.0\n4    2419221084_01a14176b4.jpg  4.2\n..                         ...  ...\n879   757046028_ff5999f91b.jpg  2.0\n880  2054869561_ff723e9eab.jpg  1.8\n881  2100816230_ff866fb352.jpg  2.0\n882   929679367_ff8c7df2ee.jpg  2.8\n883   270816949_ffad112278.jpg  2.0\n\n[884 rows x 2 columns]",
      "text/html": "<div>\n<style scoped>\n    .dataframe tbody tr th:only-of-type {\n        vertical-align: middle;\n    }\n\n    .dataframe tbody tr th {\n        vertical-align: top;\n    }\n\n    .dataframe thead th {\n        text-align: right;\n    }\n</style>\n<table border=\"1\" class=\"dataframe\">\n  <thead>\n    <tr style=\"text-align: right;\">\n      <th></th>\n      <th>0</th>\n      <th>1</th>\n    </tr>\n  </thead>\n  <tbody>\n    <tr>\n      <th>0</th>\n      <td>3609032038_005c789f64.jpg</td>\n      <td>4.2</td>\n    </tr>\n    <tr>\n      <th>1</th>\n      <td>241347204_007d83e252.jpg</td>\n      <td>3.4</td>\n    </tr>\n    <tr>\n      <th>2</th>\n      <td>2774554310_007e980a90.jpg</td>\n      <td>3.6</td>\n    </tr>\n    <tr>\n      <th>3</th>\n      <td>2431832075_00aa1a4457.jpg</td>\n      <td>4.0</td>\n    </tr>\n    <tr>\n      <th>4</th>\n      <td>2419221084_01a14176b4.jpg</td>\n      <td>4.2</td>\n    </tr>\n    <tr>\n      <th>...</th>\n      <td>...</td>\n      <td>...</td>\n    </tr>\n    <tr>\n      <th>879</th>\n      <td>757046028_ff5999f91b.jpg</td>\n      <td>2.0</td>\n    </tr>\n    <tr>\n      <th>880</th>\n      <td>2054869561_ff723e9eab.jpg</td>\n      <td>1.8</td>\n    </tr>\n    <tr>\n      <th>881</th>\n      <td>2100816230_ff866fb352.jpg</td>\n      <td>2.0</td>\n    </tr>\n    <tr>\n      <th>882</th>\n      <td>929679367_ff8c7df2ee.jpg</td>\n      <td>2.8</td>\n    </tr>\n    <tr>\n      <th>883</th>\n      <td>270816949_ffad112278.jpg</td>\n      <td>2.0</td>\n    </tr>\n  </tbody>\n</table>\n<p>884 rows × 2 columns</p>\n</div>"
     },
     "execution_count": 116,
     "metadata": {},
     "output_type": "execute_result"
    }
   ],
   "source": [
    "df = pd.read_table('./rawdata/hummanjudgments.txt', sep='\\t', header=None)\n",
    "df"
   ],
   "metadata": {
    "collapsed": false,
    "pycharm": {
     "name": "#%%\n"
    }
   }
  },
  {
   "cell_type": "code",
   "execution_count": 117,
   "outputs": [],
   "source": [
    "df.columns = ['id', 'humanscore']"
   ],
   "metadata": {
    "collapsed": false,
    "pycharm": {
     "name": "#%%\n"
    }
   }
  },
  {
   "cell_type": "code",
   "execution_count": 118,
   "outputs": [
    {
     "data": {
      "text/plain": "                                                     0                    1\n0    image/Flicker8k_all_resized/3385593926_d3e9c21...  在一个粉红色的背心的女孩在滑板上滑动。\n1    image/Flicker8k_all_resized/2677656448_6b7e770...      一个游泳的男孩在游泳池里游泳。\n2    image/Flicker8k_all_resized/311146855_0b65fdb1...   一个孩子在一个红色的衣服里拿着雨伞。\n3    image/Flicker8k_all_resized/241347760_d44c8d3a...  一个穿着红色制服的足球运动员拿着足球。\n4    image/Flicker8k_all_resized/2654514044_a70a6e2...         一只棕色的狗跳到草地上。\n..                                                 ...                  ...\n879  image/Flicker8k_all_resized/3727752439_9077956...       一个小女孩在走廊上跑了下来。\n880  image/Flicker8k_all_resized/3430607596_7e4f74e...        一个女孩在一个海滩上跑过。\n881  image/Flicker8k_all_resized/3259666643_ae49524...  一个戴着蓝色衬衫和墨镜的女人站在街上。\n882  image/Flicker8k_all_resized/2623930900_b9df917...     一个女孩在游泳池里被带上了一次。\n883  image/Flicker8k_all_resized/3490736665_38710f4...           一个人坐在人行道上。\n\n[884 rows x 2 columns]",
      "text/html": "<div>\n<style scoped>\n    .dataframe tbody tr th:only-of-type {\n        vertical-align: middle;\n    }\n\n    .dataframe tbody tr th {\n        vertical-align: top;\n    }\n\n    .dataframe thead th {\n        text-align: right;\n    }\n</style>\n<table border=\"1\" class=\"dataframe\">\n  <thead>\n    <tr style=\"text-align: right;\">\n      <th></th>\n      <th>0</th>\n      <th>1</th>\n    </tr>\n  </thead>\n  <tbody>\n    <tr>\n      <th>0</th>\n      <td>image/Flicker8k_all_resized/3385593926_d3e9c21...</td>\n      <td>在一个粉红色的背心的女孩在滑板上滑动。</td>\n    </tr>\n    <tr>\n      <th>1</th>\n      <td>image/Flicker8k_all_resized/2677656448_6b7e770...</td>\n      <td>一个游泳的男孩在游泳池里游泳。</td>\n    </tr>\n    <tr>\n      <th>2</th>\n      <td>image/Flicker8k_all_resized/311146855_0b65fdb1...</td>\n      <td>一个孩子在一个红色的衣服里拿着雨伞。</td>\n    </tr>\n    <tr>\n      <th>3</th>\n      <td>image/Flicker8k_all_resized/241347760_d44c8d3a...</td>\n      <td>一个穿着红色制服的足球运动员拿着足球。</td>\n    </tr>\n    <tr>\n      <th>4</th>\n      <td>image/Flicker8k_all_resized/2654514044_a70a6e2...</td>\n      <td>一只棕色的狗跳到草地上。</td>\n    </tr>\n    <tr>\n      <th>...</th>\n      <td>...</td>\n      <td>...</td>\n    </tr>\n    <tr>\n      <th>879</th>\n      <td>image/Flicker8k_all_resized/3727752439_9077956...</td>\n      <td>一个小女孩在走廊上跑了下来。</td>\n    </tr>\n    <tr>\n      <th>880</th>\n      <td>image/Flicker8k_all_resized/3430607596_7e4f74e...</td>\n      <td>一个女孩在一个海滩上跑过。</td>\n    </tr>\n    <tr>\n      <th>881</th>\n      <td>image/Flicker8k_all_resized/3259666643_ae49524...</td>\n      <td>一个戴着蓝色衬衫和墨镜的女人站在街上。</td>\n    </tr>\n    <tr>\n      <th>882</th>\n      <td>image/Flicker8k_all_resized/2623930900_b9df917...</td>\n      <td>一个女孩在游泳池里被带上了一次。</td>\n    </tr>\n    <tr>\n      <th>883</th>\n      <td>image/Flicker8k_all_resized/3490736665_38710f4...</td>\n      <td>一个人坐在人行道上。</td>\n    </tr>\n  </tbody>\n</table>\n<p>884 rows × 2 columns</p>\n</div>"
     },
     "execution_count": 118,
     "metadata": {},
     "output_type": "execute_result"
    }
   ],
   "source": [
    "df1 = pd.read_table('./rawdata/autocaption.txt', sep=':', header=None)\n",
    "df1"
   ],
   "metadata": {
    "collapsed": false,
    "pycharm": {
     "name": "#%%\n"
    }
   }
  },
  {
   "cell_type": "code",
   "execution_count": 119,
   "outputs": [],
   "source": [
    "df1.columns = ['id', 'sentence']"
   ],
   "metadata": {
    "collapsed": false,
    "pycharm": {
     "name": "#%%\n"
    }
   }
  },
  {
   "cell_type": "code",
   "execution_count": 120,
   "outputs": [
    {
     "data": {
      "text/plain": "                            id             sentence\n0    3385593926_d3e9c21170.jpg  在一个粉红色的背心的女孩在滑板上滑动。\n1    2677656448_6b7e7702af.jpg      一个游泳的男孩在游泳池里游泳。\n2     311146855_0b65fdb169.jpg   一个孩子在一个红色的衣服里拿着雨伞。\n3     241347760_d44c8d3a01.jpg  一个穿着红色制服的足球运动员拿着足球。\n4    2654514044_a70a6e2c21.jpg         一只棕色的狗跳到草地上。\n..                         ...                  ...\n879  3727752439_907795603b.jpg       一个小女孩在走廊上跑了下来。\n880  3430607596_7e4f74e3ff.jpg        一个女孩在一个海滩上跑过。\n881  3259666643_ae49524c81.jpg  一个戴着蓝色衬衫和墨镜的女人站在街上。\n882  2623930900_b9df917b82.jpg     一个女孩在游泳池里被带上了一次。\n883  3490736665_38710f4b91.jpg           一个人坐在人行道上。\n\n[884 rows x 2 columns]",
      "text/html": "<div>\n<style scoped>\n    .dataframe tbody tr th:only-of-type {\n        vertical-align: middle;\n    }\n\n    .dataframe tbody tr th {\n        vertical-align: top;\n    }\n\n    .dataframe thead th {\n        text-align: right;\n    }\n</style>\n<table border=\"1\" class=\"dataframe\">\n  <thead>\n    <tr style=\"text-align: right;\">\n      <th></th>\n      <th>id</th>\n      <th>sentence</th>\n    </tr>\n  </thead>\n  <tbody>\n    <tr>\n      <th>0</th>\n      <td>3385593926_d3e9c21170.jpg</td>\n      <td>在一个粉红色的背心的女孩在滑板上滑动。</td>\n    </tr>\n    <tr>\n      <th>1</th>\n      <td>2677656448_6b7e7702af.jpg</td>\n      <td>一个游泳的男孩在游泳池里游泳。</td>\n    </tr>\n    <tr>\n      <th>2</th>\n      <td>311146855_0b65fdb169.jpg</td>\n      <td>一个孩子在一个红色的衣服里拿着雨伞。</td>\n    </tr>\n    <tr>\n      <th>3</th>\n      <td>241347760_d44c8d3a01.jpg</td>\n      <td>一个穿着红色制服的足球运动员拿着足球。</td>\n    </tr>\n    <tr>\n      <th>4</th>\n      <td>2654514044_a70a6e2c21.jpg</td>\n      <td>一只棕色的狗跳到草地上。</td>\n    </tr>\n    <tr>\n      <th>...</th>\n      <td>...</td>\n      <td>...</td>\n    </tr>\n    <tr>\n      <th>879</th>\n      <td>3727752439_907795603b.jpg</td>\n      <td>一个小女孩在走廊上跑了下来。</td>\n    </tr>\n    <tr>\n      <th>880</th>\n      <td>3430607596_7e4f74e3ff.jpg</td>\n      <td>一个女孩在一个海滩上跑过。</td>\n    </tr>\n    <tr>\n      <th>881</th>\n      <td>3259666643_ae49524c81.jpg</td>\n      <td>一个戴着蓝色衬衫和墨镜的女人站在街上。</td>\n    </tr>\n    <tr>\n      <th>882</th>\n      <td>2623930900_b9df917b82.jpg</td>\n      <td>一个女孩在游泳池里被带上了一次。</td>\n    </tr>\n    <tr>\n      <th>883</th>\n      <td>3490736665_38710f4b91.jpg</td>\n      <td>一个人坐在人行道上。</td>\n    </tr>\n  </tbody>\n</table>\n<p>884 rows × 2 columns</p>\n</div>"
     },
     "execution_count": 120,
     "metadata": {},
     "output_type": "execute_result"
    }
   ],
   "source": [
    "result = []\n",
    "for i in df1['id']:\n",
    "    sentence = re.sub(r'image/.*/', \"\", i)\n",
    "    result.append(sentence)\n",
    "\n",
    "df1['id'] = result\n",
    "\n",
    "df1"
   ],
   "metadata": {
    "collapsed": false,
    "pycharm": {
     "name": "#%%\n"
    }
   }
  },
  {
   "cell_type": "code",
   "execution_count": 121,
   "outputs": [
    {
     "data": {
      "text/plain": "                            id  humanscore              sentence\n0    3609032038_005c789f64.jpg         4.2   一个人骑着摩托车上的道路是岩石的背景。\n1     241347204_007d83e252.jpg         3.4   两家奥克拉荷马足球运动员越早谈越谈越。\n2    2774554310_007e980a90.jpg         3.6           一个女孩在舞台上跳舞。\n3    2431832075_00aa1a4457.jpg         4.0  一个孩子在一个红色的游戏结构滑了一幅画。\n4    2419221084_01a14176b4.jpg         4.2     一只白色的狗在空中跳跃着一根棍子。\n..                         ...         ...                   ...\n876   757046028_ff5999f91b.jpg         2.0   一个年轻的孩子在一个轮胎秋千上微笑着。\n877  2054869561_ff723e9eab.jpg         1.8         一只白色的狗在空中跳跃着。\n878  2100816230_ff866fb352.jpg         2.0             一个滑雪跳到空中。\n879   929679367_ff8c7df2ee.jpg         2.8             两只狗在户外玩耍。\n880   270816949_ffad112278.jpg         2.0     一个孤独的旅行者走在岩石上的岩石。\n\n[881 rows x 3 columns]",
      "text/html": "<div>\n<style scoped>\n    .dataframe tbody tr th:only-of-type {\n        vertical-align: middle;\n    }\n\n    .dataframe tbody tr th {\n        vertical-align: top;\n    }\n\n    .dataframe thead th {\n        text-align: right;\n    }\n</style>\n<table border=\"1\" class=\"dataframe\">\n  <thead>\n    <tr style=\"text-align: right;\">\n      <th></th>\n      <th>id</th>\n      <th>humanscore</th>\n      <th>sentence</th>\n    </tr>\n  </thead>\n  <tbody>\n    <tr>\n      <th>0</th>\n      <td>3609032038_005c789f64.jpg</td>\n      <td>4.2</td>\n      <td>一个人骑着摩托车上的道路是岩石的背景。</td>\n    </tr>\n    <tr>\n      <th>1</th>\n      <td>241347204_007d83e252.jpg</td>\n      <td>3.4</td>\n      <td>两家奥克拉荷马足球运动员越早谈越谈越。</td>\n    </tr>\n    <tr>\n      <th>2</th>\n      <td>2774554310_007e980a90.jpg</td>\n      <td>3.6</td>\n      <td>一个女孩在舞台上跳舞。</td>\n    </tr>\n    <tr>\n      <th>3</th>\n      <td>2431832075_00aa1a4457.jpg</td>\n      <td>4.0</td>\n      <td>一个孩子在一个红色的游戏结构滑了一幅画。</td>\n    </tr>\n    <tr>\n      <th>4</th>\n      <td>2419221084_01a14176b4.jpg</td>\n      <td>4.2</td>\n      <td>一只白色的狗在空中跳跃着一根棍子。</td>\n    </tr>\n    <tr>\n      <th>...</th>\n      <td>...</td>\n      <td>...</td>\n      <td>...</td>\n    </tr>\n    <tr>\n      <th>876</th>\n      <td>757046028_ff5999f91b.jpg</td>\n      <td>2.0</td>\n      <td>一个年轻的孩子在一个轮胎秋千上微笑着。</td>\n    </tr>\n    <tr>\n      <th>877</th>\n      <td>2054869561_ff723e9eab.jpg</td>\n      <td>1.8</td>\n      <td>一只白色的狗在空中跳跃着。</td>\n    </tr>\n    <tr>\n      <th>878</th>\n      <td>2100816230_ff866fb352.jpg</td>\n      <td>2.0</td>\n      <td>一个滑雪跳到空中。</td>\n    </tr>\n    <tr>\n      <th>879</th>\n      <td>929679367_ff8c7df2ee.jpg</td>\n      <td>2.8</td>\n      <td>两只狗在户外玩耍。</td>\n    </tr>\n    <tr>\n      <th>880</th>\n      <td>270816949_ffad112278.jpg</td>\n      <td>2.0</td>\n      <td>一个孤独的旅行者走在岩石上的岩石。</td>\n    </tr>\n  </tbody>\n</table>\n<p>881 rows × 3 columns</p>\n</div>"
     },
     "execution_count": 121,
     "metadata": {},
     "output_type": "execute_result"
    }
   ],
   "source": [
    "df_train = pd.merge(df, df1, how='inner', on=['id'])\n",
    "df_train"
   ],
   "metadata": {
    "collapsed": false,
    "pycharm": {
     "name": "#%%\n"
    }
   }
  },
  {
   "cell_type": "code",
   "execution_count": 122,
   "outputs": [
    {
     "data": {
      "text/plain": "                            id              sentence  humanscore\n0    3609032038_005c789f64.jpg   一个人骑着摩托车上的道路是岩石的背景。         4.2\n1     241347204_007d83e252.jpg   两家奥克拉荷马足球运动员越早谈越谈越。         3.4\n2    2774554310_007e980a90.jpg           一个女孩在舞台上跳舞。         3.6\n3    2431832075_00aa1a4457.jpg  一个孩子在一个红色的游戏结构滑了一幅画。         4.0\n4    2419221084_01a14176b4.jpg     一只白色的狗在空中跳跃着一根棍子。         4.2\n..                         ...                   ...         ...\n876   757046028_ff5999f91b.jpg   一个年轻的孩子在一个轮胎秋千上微笑着。         2.0\n877  2054869561_ff723e9eab.jpg         一只白色的狗在空中跳跃着。         1.8\n878  2100816230_ff866fb352.jpg             一个滑雪跳到空中。         2.0\n879   929679367_ff8c7df2ee.jpg             两只狗在户外玩耍。         2.8\n880   270816949_ffad112278.jpg     一个孤独的旅行者走在岩石上的岩石。         2.0\n\n[881 rows x 3 columns]",
      "text/html": "<div>\n<style scoped>\n    .dataframe tbody tr th:only-of-type {\n        vertical-align: middle;\n    }\n\n    .dataframe tbody tr th {\n        vertical-align: top;\n    }\n\n    .dataframe thead th {\n        text-align: right;\n    }\n</style>\n<table border=\"1\" class=\"dataframe\">\n  <thead>\n    <tr style=\"text-align: right;\">\n      <th></th>\n      <th>id</th>\n      <th>sentence</th>\n      <th>humanscore</th>\n    </tr>\n  </thead>\n  <tbody>\n    <tr>\n      <th>0</th>\n      <td>3609032038_005c789f64.jpg</td>\n      <td>一个人骑着摩托车上的道路是岩石的背景。</td>\n      <td>4.2</td>\n    </tr>\n    <tr>\n      <th>1</th>\n      <td>241347204_007d83e252.jpg</td>\n      <td>两家奥克拉荷马足球运动员越早谈越谈越。</td>\n      <td>3.4</td>\n    </tr>\n    <tr>\n      <th>2</th>\n      <td>2774554310_007e980a90.jpg</td>\n      <td>一个女孩在舞台上跳舞。</td>\n      <td>3.6</td>\n    </tr>\n    <tr>\n      <th>3</th>\n      <td>2431832075_00aa1a4457.jpg</td>\n      <td>一个孩子在一个红色的游戏结构滑了一幅画。</td>\n      <td>4.0</td>\n    </tr>\n    <tr>\n      <th>4</th>\n      <td>2419221084_01a14176b4.jpg</td>\n      <td>一只白色的狗在空中跳跃着一根棍子。</td>\n      <td>4.2</td>\n    </tr>\n    <tr>\n      <th>...</th>\n      <td>...</td>\n      <td>...</td>\n      <td>...</td>\n    </tr>\n    <tr>\n      <th>876</th>\n      <td>757046028_ff5999f91b.jpg</td>\n      <td>一个年轻的孩子在一个轮胎秋千上微笑着。</td>\n      <td>2.0</td>\n    </tr>\n    <tr>\n      <th>877</th>\n      <td>2054869561_ff723e9eab.jpg</td>\n      <td>一只白色的狗在空中跳跃着。</td>\n      <td>1.8</td>\n    </tr>\n    <tr>\n      <th>878</th>\n      <td>2100816230_ff866fb352.jpg</td>\n      <td>一个滑雪跳到空中。</td>\n      <td>2.0</td>\n    </tr>\n    <tr>\n      <th>879</th>\n      <td>929679367_ff8c7df2ee.jpg</td>\n      <td>两只狗在户外玩耍。</td>\n      <td>2.8</td>\n    </tr>\n    <tr>\n      <th>880</th>\n      <td>270816949_ffad112278.jpg</td>\n      <td>一个孤独的旅行者走在岩石上的岩石。</td>\n      <td>2.0</td>\n    </tr>\n  </tbody>\n</table>\n<p>881 rows × 3 columns</p>\n</div>"
     },
     "execution_count": 122,
     "metadata": {},
     "output_type": "execute_result"
    }
   ],
   "source": [
    "col_name = ['id', 'sentence', 'humanscore']\n",
    "df_train = df_train[col_name]\n",
    "df_train"
   ],
   "metadata": {
    "collapsed": false,
    "pycharm": {
     "name": "#%%\n"
    }
   }
  },
  {
   "cell_type": "code",
   "execution_count": 123,
   "outputs": [],
   "source": [
    "# df_train.to_csv('data/train.csv', index=None)"
   ],
   "metadata": {
    "collapsed": false,
    "pycharm": {
     "name": "#%%\n"
    }
   }
  },
  {
   "cell_type": "code",
   "execution_count": 124,
   "outputs": [
    {
     "name": "stderr",
     "output_type": "stream",
     "text": [
      "c:\\soft\\anaconda3\\envs\\pytorch110\\lib\\site-packages\\pandas\\util\\_decorators.py:311: ParserWarning: Falling back to the 'python' engine because the 'c' engine does not support regex separators (separators > 1 char and different from '\\s+' are interpreted as regex); you can avoid this warning by specifying engine='python'.\n",
      "  return func(*args, **kwargs)\n"
     ]
    },
    {
     "data": {
      "text/plain": "                            id                            sentence\n0     191003285_edd8d0cf58.jpg                   一个男人和一个女孩坐在地上吃东西。\n1     191003285_edd8d0cf58.jpg      一个男人和一个小女孩正坐在人行道上，在蓝色的袋子旁边吃东西。\n2     191003285_edd8d0cf58.jpg              一个男人和一个年轻女孩在一个城市街道上吃饭。\n3     191003285_edd8d0cf58.jpg   一个穿着黑色衬衫的男子和一个穿着橙色衬衫的女孩坐在人行道上吃东西。\n4     191003285_edd8d0cf58.jpg    穿着黑色衬衫的男人和一个穿着橘黄色连衣裙的小女孩正共享一顿美餐。\n...                        ...                                 ...\n4415  997722733_0cb5439472.jpg                     一个穿粉红色衬衫的人爬上岩石。\n4416  997722733_0cb5439472.jpg                          一个人在高空中攀岩。\n4417  997722733_0cb5439472.jpg           一位穿着红色衬衫的人正在爬上一个有扶手覆盖的岩壁。\n4418  997722733_0cb5439472.jpg                        一个穿红色衬衫的攀岩者。\n4419  997722733_0cb5439472.jpg                    一个攀岩者正在一面攀岩壁上练习。\n\n[4420 rows x 2 columns]",
      "text/html": "<div>\n<style scoped>\n    .dataframe tbody tr th:only-of-type {\n        vertical-align: middle;\n    }\n\n    .dataframe tbody tr th {\n        vertical-align: top;\n    }\n\n    .dataframe thead th {\n        text-align: right;\n    }\n</style>\n<table border=\"1\" class=\"dataframe\">\n  <thead>\n    <tr style=\"text-align: right;\">\n      <th></th>\n      <th>id</th>\n      <th>sentence</th>\n    </tr>\n  </thead>\n  <tbody>\n    <tr>\n      <th>0</th>\n      <td>191003285_edd8d0cf58.jpg</td>\n      <td>一个男人和一个女孩坐在地上吃东西。</td>\n    </tr>\n    <tr>\n      <th>1</th>\n      <td>191003285_edd8d0cf58.jpg</td>\n      <td>一个男人和一个小女孩正坐在人行道上，在蓝色的袋子旁边吃东西。</td>\n    </tr>\n    <tr>\n      <th>2</th>\n      <td>191003285_edd8d0cf58.jpg</td>\n      <td>一个男人和一个年轻女孩在一个城市街道上吃饭。</td>\n    </tr>\n    <tr>\n      <th>3</th>\n      <td>191003285_edd8d0cf58.jpg</td>\n      <td>一个穿着黑色衬衫的男子和一个穿着橙色衬衫的女孩坐在人行道上吃东西。</td>\n    </tr>\n    <tr>\n      <th>4</th>\n      <td>191003285_edd8d0cf58.jpg</td>\n      <td>穿着黑色衬衫的男人和一个穿着橘黄色连衣裙的小女孩正共享一顿美餐。</td>\n    </tr>\n    <tr>\n      <th>...</th>\n      <td>...</td>\n      <td>...</td>\n    </tr>\n    <tr>\n      <th>4415</th>\n      <td>997722733_0cb5439472.jpg</td>\n      <td>一个穿粉红色衬衫的人爬上岩石。</td>\n    </tr>\n    <tr>\n      <th>4416</th>\n      <td>997722733_0cb5439472.jpg</td>\n      <td>一个人在高空中攀岩。</td>\n    </tr>\n    <tr>\n      <th>4417</th>\n      <td>997722733_0cb5439472.jpg</td>\n      <td>一位穿着红色衬衫的人正在爬上一个有扶手覆盖的岩壁。</td>\n    </tr>\n    <tr>\n      <th>4418</th>\n      <td>997722733_0cb5439472.jpg</td>\n      <td>一个穿红色衬衫的攀岩者。</td>\n    </tr>\n    <tr>\n      <th>4419</th>\n      <td>997722733_0cb5439472.jpg</td>\n      <td>一个攀岩者正在一面攀岩壁上练习。</td>\n    </tr>\n  </tbody>\n</table>\n<p>4420 rows × 2 columns</p>\n</div>"
     },
     "execution_count": 124,
     "metadata": {},
     "output_type": "execute_result"
    }
   ],
   "source": [
    "df2 = pd.read_table('./rawdata/references.txt', sep=r'#.*#.', header=None, names=['id', 'sentence'])\n",
    "df2"
   ],
   "metadata": {
    "collapsed": false,
    "pycharm": {
     "name": "#%%\n"
    }
   }
  },
  {
   "cell_type": "code",
   "execution_count": 125,
   "outputs": [
    {
     "data": {
      "text/plain": "                            id                            sentence  index\n0     191003285_edd8d0cf58.jpg                   一个男人和一个女孩坐在地上吃东西。      1\n1     191003285_edd8d0cf58.jpg      一个男人和一个小女孩正坐在人行道上，在蓝色的袋子旁边吃东西。      2\n2     191003285_edd8d0cf58.jpg              一个男人和一个年轻女孩在一个城市街道上吃饭。      3\n3     191003285_edd8d0cf58.jpg   一个穿着黑色衬衫的男子和一个穿着橙色衬衫的女孩坐在人行道上吃东西。      4\n4     191003285_edd8d0cf58.jpg    穿着黑色衬衫的男人和一个穿着橘黄色连衣裙的小女孩正共享一顿美餐。      5\n...                        ...                                 ...    ...\n4415  997722733_0cb5439472.jpg                     一个穿粉红色衬衫的人爬上岩石。      1\n4416  997722733_0cb5439472.jpg                          一个人在高空中攀岩。      2\n4417  997722733_0cb5439472.jpg           一位穿着红色衬衫的人正在爬上一个有扶手覆盖的岩壁。      3\n4418  997722733_0cb5439472.jpg                        一个穿红色衬衫的攀岩者。      4\n4419  997722733_0cb5439472.jpg                    一个攀岩者正在一面攀岩壁上练习。      5\n\n[4420 rows x 3 columns]",
      "text/html": "<div>\n<style scoped>\n    .dataframe tbody tr th:only-of-type {\n        vertical-align: middle;\n    }\n\n    .dataframe tbody tr th {\n        vertical-align: top;\n    }\n\n    .dataframe thead th {\n        text-align: right;\n    }\n</style>\n<table border=\"1\" class=\"dataframe\">\n  <thead>\n    <tr style=\"text-align: right;\">\n      <th></th>\n      <th>id</th>\n      <th>sentence</th>\n      <th>index</th>\n    </tr>\n  </thead>\n  <tbody>\n    <tr>\n      <th>0</th>\n      <td>191003285_edd8d0cf58.jpg</td>\n      <td>一个男人和一个女孩坐在地上吃东西。</td>\n      <td>1</td>\n    </tr>\n    <tr>\n      <th>1</th>\n      <td>191003285_edd8d0cf58.jpg</td>\n      <td>一个男人和一个小女孩正坐在人行道上，在蓝色的袋子旁边吃东西。</td>\n      <td>2</td>\n    </tr>\n    <tr>\n      <th>2</th>\n      <td>191003285_edd8d0cf58.jpg</td>\n      <td>一个男人和一个年轻女孩在一个城市街道上吃饭。</td>\n      <td>3</td>\n    </tr>\n    <tr>\n      <th>3</th>\n      <td>191003285_edd8d0cf58.jpg</td>\n      <td>一个穿着黑色衬衫的男子和一个穿着橙色衬衫的女孩坐在人行道上吃东西。</td>\n      <td>4</td>\n    </tr>\n    <tr>\n      <th>4</th>\n      <td>191003285_edd8d0cf58.jpg</td>\n      <td>穿着黑色衬衫的男人和一个穿着橘黄色连衣裙的小女孩正共享一顿美餐。</td>\n      <td>5</td>\n    </tr>\n    <tr>\n      <th>...</th>\n      <td>...</td>\n      <td>...</td>\n      <td>...</td>\n    </tr>\n    <tr>\n      <th>4415</th>\n      <td>997722733_0cb5439472.jpg</td>\n      <td>一个穿粉红色衬衫的人爬上岩石。</td>\n      <td>1</td>\n    </tr>\n    <tr>\n      <th>4416</th>\n      <td>997722733_0cb5439472.jpg</td>\n      <td>一个人在高空中攀岩。</td>\n      <td>2</td>\n    </tr>\n    <tr>\n      <th>4417</th>\n      <td>997722733_0cb5439472.jpg</td>\n      <td>一位穿着红色衬衫的人正在爬上一个有扶手覆盖的岩壁。</td>\n      <td>3</td>\n    </tr>\n    <tr>\n      <th>4418</th>\n      <td>997722733_0cb5439472.jpg</td>\n      <td>一个穿红色衬衫的攀岩者。</td>\n      <td>4</td>\n    </tr>\n    <tr>\n      <th>4419</th>\n      <td>997722733_0cb5439472.jpg</td>\n      <td>一个攀岩者正在一面攀岩壁上练习。</td>\n      <td>5</td>\n    </tr>\n  </tbody>\n</table>\n<p>4420 rows × 3 columns</p>\n</div>"
     },
     "execution_count": 125,
     "metadata": {},
     "output_type": "execute_result"
    }
   ],
   "source": [
    "\n",
    "df2['index'] = 0\n",
    "for i in range(0, len(df2), 5):\n",
    "    df2.at[i, 'index'] = 1\n",
    "    df2.at[i + 1, 'index'] = 2\n",
    "    df2.at[i + 2, 'index'] = 3\n",
    "    df2.at[i + 3, 'index'] = 4\n",
    "    df2.at[i + 4, 'index'] = 5\n",
    "df2"
   ],
   "metadata": {
    "collapsed": false,
    "pycharm": {
     "name": "#%%\n"
    }
   }
  },
  {
   "cell_type": "code",
   "execution_count": 126,
   "outputs": [
    {
     "data": {
      "text/plain": "id                        index\n191003285_edd8d0cf58.jpg  1                         一个男人和一个女孩坐在地上吃东西。\n                          2            一个男人和一个小女孩正坐在人行道上，在蓝色的袋子旁边吃东西。\n                          3                    一个男人和一个年轻女孩在一个城市街道上吃饭。\n                          4         一个穿着黑色衬衫的男子和一个穿着橙色衬衫的女孩坐在人行道上吃东西。\n                          5          穿着黑色衬衫的男人和一个穿着橘黄色连衣裙的小女孩正共享一顿美餐。\n                                                  ...                \n997722733_0cb5439472.jpg  1                           一个穿粉红色衬衫的人爬上岩石。\n                          2                                一个人在高空中攀岩。\n                          3                 一位穿着红色衬衫的人正在爬上一个有扶手覆盖的岩壁。\n                          4                              一个穿红色衬衫的攀岩者。\n                          5                          一个攀岩者正在一面攀岩壁上练习。\nName: sentence, Length: 4420, dtype: object"
     },
     "execution_count": 126,
     "metadata": {},
     "output_type": "execute_result"
    }
   ],
   "source": [
    "two_level_index_series = df2.set_index(['id', 'index'])['sentence']\n",
    "two_level_index_series"
   ],
   "metadata": {
    "collapsed": false,
    "pycharm": {
     "name": "#%%\n"
    }
   }
  },
  {
   "cell_type": "code",
   "execution_count": 127,
   "outputs": [
    {
     "data": {
      "text/plain": "index                                                1  \\\nid                                                       \n191003285_edd8d0cf58.jpg             一个男人和一个女孩坐在地上吃东西。   \n1917265421_aeccf1ca38.jpg           人群中孩子们参加一项与猪有关的运动。   \n1962729184_6996e128e7.jpg   一个女孩在与其他孩子一起等待上学之前，亲吻她的母亲。   \n197107117_4b438b1872.jpg                  一个登山者从山顶往下看。   \n197504190_fd1fc3d4b7.jpg                  两个男孩在草地上踢足球。   \n...                                                ...   \n929679367_ff8c7df2ee.jpg                     一只小狗在玩网球。   \n96420612_feb18fc6c6.jpg              一个穿着红色泳裤的男人跳上冲浪板。   \n968081289_cdba83ce2e.jpg           一个男孩在朋友的注视下从一个码头跳下。   \n979383193_0a542a059d.jpg                六个孩子坐在一个木制桌子旁。   \n997722733_0cb5439472.jpg               一个穿粉红色衬衫的人爬上岩石。   \n\nindex                                                    2  \\\nid                                                           \n191003285_edd8d0cf58.jpg    一个男人和一个小女孩正坐在人行道上，在蓝色的袋子旁边吃东西。   \n1917265421_aeccf1ca38.jpg                         孩子们和猪玩耍。   \n1962729184_6996e128e7.jpg                一群穿着蓝衣服的小孩站在一扇门前。   \n197107117_4b438b1872.jpg                  一个人在两个巨大的岩石面间攀岩。   \n197504190_fd1fc3d4b7.jpg                      两个孩子在草地上玩足球。   \n...                                                    ...   \n929679367_ff8c7df2ee.jpg                      一只小狗正在玩一个网球。   \n96420612_feb18fc6c6.jpg            一个穿着红色运动短裤的男人扶着冲浪板飞跃空中。   \n968081289_cdba83ce2e.jpg                两个男孩爬上一个木制平台，跳进河里。   \n979383193_0a542a059d.jpg              一群亚洲的孩子们在一张桌子前摆姿势拍照。   \n997722733_0cb5439472.jpg                        一个人在高空中攀岩。   \n\nindex                                               3  \\\nid                                                      \n191003285_edd8d0cf58.jpg       一个男人和一个年轻女孩在一个城市街道上吃饭。   \n1917265421_aeccf1ca38.jpg           人们聚集在一起看一群孩子和一头猪。   \n1962729184_6996e128e7.jpg              一群身穿校服的学生站在门前。   \n197107117_4b438b1872.jpg           一个攀岩者攀爬在两个非常大的岩石间。   \n197504190_fd1fc3d4b7.jpg                两个孩子在草地上玩一个球。   \n...                                               ...   \n929679367_ff8c7df2ee.jpg       一只小狗在整修很好的灌木丛小道上玩一个网球。   \n96420612_feb18fc6c6.jpg           一个带着尾板的人在并非水面的表面俯冲。   \n968081289_cdba83ce2e.jpg                 两个男孩从码头跳进水里。   \n979383193_0a542a059d.jpg    六个孩子，都有着黑色的头发，坐在一张桌子旁边拍照。   \n997722733_0cb5439472.jpg    一位穿着红色衬衫的人正在爬上一个有扶手覆盖的岩壁。   \n\nindex                                                       4  \\\nid                                                              \n191003285_edd8d0cf58.jpg    一个穿着黑色衬衫的男子和一个穿着橙色衬衫的女孩坐在人行道上吃东西。   \n1917265421_aeccf1ca38.jpg                  一个孩子在一群人的围观下爱抚一头猪。   \n1962729184_6996e128e7.jpg                           在水域附近的人群。   \n197107117_4b438b1872.jpg             在湛蓝天空的映衬下，一个攀岩者在峭壁上探出身子。   \n197504190_fd1fc3d4b7.jpg                          两个孩子在公园踢足球。   \n...                                                       ...   \n929679367_ff8c7df2ee.jpg                       一只小狗在一条石头路玩网球。   \n96420612_feb18fc6c6.jpg                       一个赤裸上身的男人做身体冲浪。   \n968081289_cdba83ce2e.jpg                两个男孩准备从一片很大的水域的码头跳下去。   \n979383193_0a542a059d.jpg                          一张桌子上的六个孩子。   \n997722733_0cb5439472.jpg                         一个穿红色衬衫的攀岩者。   \n\nindex                                                      5  \nid                                                            \n191003285_edd8d0cf58.jpg    穿着黑色衬衫的男人和一个穿着橘黄色连衣裙的小女孩正共享一顿美餐。  \n1917265421_aeccf1ca38.jpg                    年轻的孩子们正在抚摸一只小猪。  \n1962729184_6996e128e7.jpg         一群穿着校服的孩子站在大门口，一个正在吻别她的母亲。  \n197107117_4b438b1872.jpg           两座大山高耸入空中，而一个人正在尝试攀登其中一座。  \n197504190_fd1fc3d4b7.jpg                两个小男孩正在户外玩足球在一片绿草地上。  \n...                                                      ...  \n929679367_ff8c7df2ee.jpg                一只白足的比格犬在公园小径上玩一个网球。  \n96420612_feb18fc6c6.jpg                        男人正下滑到他的滑水板上。  \n968081289_cdba83ce2e.jpg                      两个孩子从码头上跳进了湖里。  \n979383193_0a542a059d.jpg                       六个坐在一张桌子上的小孩。  \n997722733_0cb5439472.jpg                    一个攀岩者正在一面攀岩壁上练习。  \n\n[884 rows x 5 columns]",
      "text/html": "<div>\n<style scoped>\n    .dataframe tbody tr th:only-of-type {\n        vertical-align: middle;\n    }\n\n    .dataframe tbody tr th {\n        vertical-align: top;\n    }\n\n    .dataframe thead th {\n        text-align: right;\n    }\n</style>\n<table border=\"1\" class=\"dataframe\">\n  <thead>\n    <tr style=\"text-align: right;\">\n      <th>index</th>\n      <th>1</th>\n      <th>2</th>\n      <th>3</th>\n      <th>4</th>\n      <th>5</th>\n    </tr>\n    <tr>\n      <th>id</th>\n      <th></th>\n      <th></th>\n      <th></th>\n      <th></th>\n      <th></th>\n    </tr>\n  </thead>\n  <tbody>\n    <tr>\n      <th>191003285_edd8d0cf58.jpg</th>\n      <td>一个男人和一个女孩坐在地上吃东西。</td>\n      <td>一个男人和一个小女孩正坐在人行道上，在蓝色的袋子旁边吃东西。</td>\n      <td>一个男人和一个年轻女孩在一个城市街道上吃饭。</td>\n      <td>一个穿着黑色衬衫的男子和一个穿着橙色衬衫的女孩坐在人行道上吃东西。</td>\n      <td>穿着黑色衬衫的男人和一个穿着橘黄色连衣裙的小女孩正共享一顿美餐。</td>\n    </tr>\n    <tr>\n      <th>1917265421_aeccf1ca38.jpg</th>\n      <td>人群中孩子们参加一项与猪有关的运动。</td>\n      <td>孩子们和猪玩耍。</td>\n      <td>人们聚集在一起看一群孩子和一头猪。</td>\n      <td>一个孩子在一群人的围观下爱抚一头猪。</td>\n      <td>年轻的孩子们正在抚摸一只小猪。</td>\n    </tr>\n    <tr>\n      <th>1962729184_6996e128e7.jpg</th>\n      <td>一个女孩在与其他孩子一起等待上学之前，亲吻她的母亲。</td>\n      <td>一群穿着蓝衣服的小孩站在一扇门前。</td>\n      <td>一群身穿校服的学生站在门前。</td>\n      <td>在水域附近的人群。</td>\n      <td>一群穿着校服的孩子站在大门口，一个正在吻别她的母亲。</td>\n    </tr>\n    <tr>\n      <th>197107117_4b438b1872.jpg</th>\n      <td>一个登山者从山顶往下看。</td>\n      <td>一个人在两个巨大的岩石面间攀岩。</td>\n      <td>一个攀岩者攀爬在两个非常大的岩石间。</td>\n      <td>在湛蓝天空的映衬下，一个攀岩者在峭壁上探出身子。</td>\n      <td>两座大山高耸入空中，而一个人正在尝试攀登其中一座。</td>\n    </tr>\n    <tr>\n      <th>197504190_fd1fc3d4b7.jpg</th>\n      <td>两个男孩在草地上踢足球。</td>\n      <td>两个孩子在草地上玩足球。</td>\n      <td>两个孩子在草地上玩一个球。</td>\n      <td>两个孩子在公园踢足球。</td>\n      <td>两个小男孩正在户外玩足球在一片绿草地上。</td>\n    </tr>\n    <tr>\n      <th>...</th>\n      <td>...</td>\n      <td>...</td>\n      <td>...</td>\n      <td>...</td>\n      <td>...</td>\n    </tr>\n    <tr>\n      <th>929679367_ff8c7df2ee.jpg</th>\n      <td>一只小狗在玩网球。</td>\n      <td>一只小狗正在玩一个网球。</td>\n      <td>一只小狗在整修很好的灌木丛小道上玩一个网球。</td>\n      <td>一只小狗在一条石头路玩网球。</td>\n      <td>一只白足的比格犬在公园小径上玩一个网球。</td>\n    </tr>\n    <tr>\n      <th>96420612_feb18fc6c6.jpg</th>\n      <td>一个穿着红色泳裤的男人跳上冲浪板。</td>\n      <td>一个穿着红色运动短裤的男人扶着冲浪板飞跃空中。</td>\n      <td>一个带着尾板的人在并非水面的表面俯冲。</td>\n      <td>一个赤裸上身的男人做身体冲浪。</td>\n      <td>男人正下滑到他的滑水板上。</td>\n    </tr>\n    <tr>\n      <th>968081289_cdba83ce2e.jpg</th>\n      <td>一个男孩在朋友的注视下从一个码头跳下。</td>\n      <td>两个男孩爬上一个木制平台，跳进河里。</td>\n      <td>两个男孩从码头跳进水里。</td>\n      <td>两个男孩准备从一片很大的水域的码头跳下去。</td>\n      <td>两个孩子从码头上跳进了湖里。</td>\n    </tr>\n    <tr>\n      <th>979383193_0a542a059d.jpg</th>\n      <td>六个孩子坐在一个木制桌子旁。</td>\n      <td>一群亚洲的孩子们在一张桌子前摆姿势拍照。</td>\n      <td>六个孩子，都有着黑色的头发，坐在一张桌子旁边拍照。</td>\n      <td>一张桌子上的六个孩子。</td>\n      <td>六个坐在一张桌子上的小孩。</td>\n    </tr>\n    <tr>\n      <th>997722733_0cb5439472.jpg</th>\n      <td>一个穿粉红色衬衫的人爬上岩石。</td>\n      <td>一个人在高空中攀岩。</td>\n      <td>一位穿着红色衬衫的人正在爬上一个有扶手覆盖的岩壁。</td>\n      <td>一个穿红色衬衫的攀岩者。</td>\n      <td>一个攀岩者正在一面攀岩壁上练习。</td>\n    </tr>\n  </tbody>\n</table>\n<p>884 rows × 5 columns</p>\n</div>"
     },
     "execution_count": 127,
     "metadata": {},
     "output_type": "execute_result"
    }
   ],
   "source": [
    "new_df = two_level_index_series.unstack()\n",
    "new_df"
   ],
   "metadata": {
    "collapsed": false,
    "pycharm": {
     "name": "#%%\n"
    }
   }
  },
  {
   "cell_type": "code",
   "execution_count": 128,
   "outputs": [
    {
     "data": {
      "text/plain": "                                                     1  \\\nid                                                       \n191003285_edd8d0cf58.jpg             一个男人和一个女孩坐在地上吃东西。   \n1917265421_aeccf1ca38.jpg           人群中孩子们参加一项与猪有关的运动。   \n1962729184_6996e128e7.jpg   一个女孩在与其他孩子一起等待上学之前，亲吻她的母亲。   \n197107117_4b438b1872.jpg                  一个登山者从山顶往下看。   \n197504190_fd1fc3d4b7.jpg                  两个男孩在草地上踢足球。   \n...                                                ...   \n929679367_ff8c7df2ee.jpg                     一只小狗在玩网球。   \n96420612_feb18fc6c6.jpg              一个穿着红色泳裤的男人跳上冲浪板。   \n968081289_cdba83ce2e.jpg           一个男孩在朋友的注视下从一个码头跳下。   \n979383193_0a542a059d.jpg                六个孩子坐在一个木制桌子旁。   \n997722733_0cb5439472.jpg               一个穿粉红色衬衫的人爬上岩石。   \n\n                                                         2  \\\nid                                                           \n191003285_edd8d0cf58.jpg    一个男人和一个小女孩正坐在人行道上，在蓝色的袋子旁边吃东西。   \n1917265421_aeccf1ca38.jpg                         孩子们和猪玩耍。   \n1962729184_6996e128e7.jpg                一群穿着蓝衣服的小孩站在一扇门前。   \n197107117_4b438b1872.jpg                  一个人在两个巨大的岩石面间攀岩。   \n197504190_fd1fc3d4b7.jpg                      两个孩子在草地上玩足球。   \n...                                                    ...   \n929679367_ff8c7df2ee.jpg                      一只小狗正在玩一个网球。   \n96420612_feb18fc6c6.jpg            一个穿着红色运动短裤的男人扶着冲浪板飞跃空中。   \n968081289_cdba83ce2e.jpg                两个男孩爬上一个木制平台，跳进河里。   \n979383193_0a542a059d.jpg              一群亚洲的孩子们在一张桌子前摆姿势拍照。   \n997722733_0cb5439472.jpg                        一个人在高空中攀岩。   \n\n                                                    3  \\\nid                                                      \n191003285_edd8d0cf58.jpg       一个男人和一个年轻女孩在一个城市街道上吃饭。   \n1917265421_aeccf1ca38.jpg           人们聚集在一起看一群孩子和一头猪。   \n1962729184_6996e128e7.jpg              一群身穿校服的学生站在门前。   \n197107117_4b438b1872.jpg           一个攀岩者攀爬在两个非常大的岩石间。   \n197504190_fd1fc3d4b7.jpg                两个孩子在草地上玩一个球。   \n...                                               ...   \n929679367_ff8c7df2ee.jpg       一只小狗在整修很好的灌木丛小道上玩一个网球。   \n96420612_feb18fc6c6.jpg           一个带着尾板的人在并非水面的表面俯冲。   \n968081289_cdba83ce2e.jpg                 两个男孩从码头跳进水里。   \n979383193_0a542a059d.jpg    六个孩子，都有着黑色的头发，坐在一张桌子旁边拍照。   \n997722733_0cb5439472.jpg    一位穿着红色衬衫的人正在爬上一个有扶手覆盖的岩壁。   \n\n                                                            4  \\\nid                                                              \n191003285_edd8d0cf58.jpg    一个穿着黑色衬衫的男子和一个穿着橙色衬衫的女孩坐在人行道上吃东西。   \n1917265421_aeccf1ca38.jpg                  一个孩子在一群人的围观下爱抚一头猪。   \n1962729184_6996e128e7.jpg                           在水域附近的人群。   \n197107117_4b438b1872.jpg             在湛蓝天空的映衬下，一个攀岩者在峭壁上探出身子。   \n197504190_fd1fc3d4b7.jpg                          两个孩子在公园踢足球。   \n...                                                       ...   \n929679367_ff8c7df2ee.jpg                       一只小狗在一条石头路玩网球。   \n96420612_feb18fc6c6.jpg                       一个赤裸上身的男人做身体冲浪。   \n968081289_cdba83ce2e.jpg                两个男孩准备从一片很大的水域的码头跳下去。   \n979383193_0a542a059d.jpg                          一张桌子上的六个孩子。   \n997722733_0cb5439472.jpg                         一个穿红色衬衫的攀岩者。   \n\n                                                           5  \nid                                                            \n191003285_edd8d0cf58.jpg    穿着黑色衬衫的男人和一个穿着橘黄色连衣裙的小女孩正共享一顿美餐。  \n1917265421_aeccf1ca38.jpg                    年轻的孩子们正在抚摸一只小猪。  \n1962729184_6996e128e7.jpg         一群穿着校服的孩子站在大门口，一个正在吻别她的母亲。  \n197107117_4b438b1872.jpg           两座大山高耸入空中，而一个人正在尝试攀登其中一座。  \n197504190_fd1fc3d4b7.jpg                两个小男孩正在户外玩足球在一片绿草地上。  \n...                                                      ...  \n929679367_ff8c7df2ee.jpg                一只白足的比格犬在公园小径上玩一个网球。  \n96420612_feb18fc6c6.jpg                        男人正下滑到他的滑水板上。  \n968081289_cdba83ce2e.jpg                      两个孩子从码头上跳进了湖里。  \n979383193_0a542a059d.jpg                       六个坐在一张桌子上的小孩。  \n997722733_0cb5439472.jpg                    一个攀岩者正在一面攀岩壁上练习。  \n\n[884 rows x 5 columns]",
      "text/html": "<div>\n<style scoped>\n    .dataframe tbody tr th:only-of-type {\n        vertical-align: middle;\n    }\n\n    .dataframe tbody tr th {\n        vertical-align: top;\n    }\n\n    .dataframe thead th {\n        text-align: right;\n    }\n</style>\n<table border=\"1\" class=\"dataframe\">\n  <thead>\n    <tr style=\"text-align: right;\">\n      <th></th>\n      <th>1</th>\n      <th>2</th>\n      <th>3</th>\n      <th>4</th>\n      <th>5</th>\n    </tr>\n    <tr>\n      <th>id</th>\n      <th></th>\n      <th></th>\n      <th></th>\n      <th></th>\n      <th></th>\n    </tr>\n  </thead>\n  <tbody>\n    <tr>\n      <th>191003285_edd8d0cf58.jpg</th>\n      <td>一个男人和一个女孩坐在地上吃东西。</td>\n      <td>一个男人和一个小女孩正坐在人行道上，在蓝色的袋子旁边吃东西。</td>\n      <td>一个男人和一个年轻女孩在一个城市街道上吃饭。</td>\n      <td>一个穿着黑色衬衫的男子和一个穿着橙色衬衫的女孩坐在人行道上吃东西。</td>\n      <td>穿着黑色衬衫的男人和一个穿着橘黄色连衣裙的小女孩正共享一顿美餐。</td>\n    </tr>\n    <tr>\n      <th>1917265421_aeccf1ca38.jpg</th>\n      <td>人群中孩子们参加一项与猪有关的运动。</td>\n      <td>孩子们和猪玩耍。</td>\n      <td>人们聚集在一起看一群孩子和一头猪。</td>\n      <td>一个孩子在一群人的围观下爱抚一头猪。</td>\n      <td>年轻的孩子们正在抚摸一只小猪。</td>\n    </tr>\n    <tr>\n      <th>1962729184_6996e128e7.jpg</th>\n      <td>一个女孩在与其他孩子一起等待上学之前，亲吻她的母亲。</td>\n      <td>一群穿着蓝衣服的小孩站在一扇门前。</td>\n      <td>一群身穿校服的学生站在门前。</td>\n      <td>在水域附近的人群。</td>\n      <td>一群穿着校服的孩子站在大门口，一个正在吻别她的母亲。</td>\n    </tr>\n    <tr>\n      <th>197107117_4b438b1872.jpg</th>\n      <td>一个登山者从山顶往下看。</td>\n      <td>一个人在两个巨大的岩石面间攀岩。</td>\n      <td>一个攀岩者攀爬在两个非常大的岩石间。</td>\n      <td>在湛蓝天空的映衬下，一个攀岩者在峭壁上探出身子。</td>\n      <td>两座大山高耸入空中，而一个人正在尝试攀登其中一座。</td>\n    </tr>\n    <tr>\n      <th>197504190_fd1fc3d4b7.jpg</th>\n      <td>两个男孩在草地上踢足球。</td>\n      <td>两个孩子在草地上玩足球。</td>\n      <td>两个孩子在草地上玩一个球。</td>\n      <td>两个孩子在公园踢足球。</td>\n      <td>两个小男孩正在户外玩足球在一片绿草地上。</td>\n    </tr>\n    <tr>\n      <th>...</th>\n      <td>...</td>\n      <td>...</td>\n      <td>...</td>\n      <td>...</td>\n      <td>...</td>\n    </tr>\n    <tr>\n      <th>929679367_ff8c7df2ee.jpg</th>\n      <td>一只小狗在玩网球。</td>\n      <td>一只小狗正在玩一个网球。</td>\n      <td>一只小狗在整修很好的灌木丛小道上玩一个网球。</td>\n      <td>一只小狗在一条石头路玩网球。</td>\n      <td>一只白足的比格犬在公园小径上玩一个网球。</td>\n    </tr>\n    <tr>\n      <th>96420612_feb18fc6c6.jpg</th>\n      <td>一个穿着红色泳裤的男人跳上冲浪板。</td>\n      <td>一个穿着红色运动短裤的男人扶着冲浪板飞跃空中。</td>\n      <td>一个带着尾板的人在并非水面的表面俯冲。</td>\n      <td>一个赤裸上身的男人做身体冲浪。</td>\n      <td>男人正下滑到他的滑水板上。</td>\n    </tr>\n    <tr>\n      <th>968081289_cdba83ce2e.jpg</th>\n      <td>一个男孩在朋友的注视下从一个码头跳下。</td>\n      <td>两个男孩爬上一个木制平台，跳进河里。</td>\n      <td>两个男孩从码头跳进水里。</td>\n      <td>两个男孩准备从一片很大的水域的码头跳下去。</td>\n      <td>两个孩子从码头上跳进了湖里。</td>\n    </tr>\n    <tr>\n      <th>979383193_0a542a059d.jpg</th>\n      <td>六个孩子坐在一个木制桌子旁。</td>\n      <td>一群亚洲的孩子们在一张桌子前摆姿势拍照。</td>\n      <td>六个孩子，都有着黑色的头发，坐在一张桌子旁边拍照。</td>\n      <td>一张桌子上的六个孩子。</td>\n      <td>六个坐在一张桌子上的小孩。</td>\n    </tr>\n    <tr>\n      <th>997722733_0cb5439472.jpg</th>\n      <td>一个穿粉红色衬衫的人爬上岩石。</td>\n      <td>一个人在高空中攀岩。</td>\n      <td>一位穿着红色衬衫的人正在爬上一个有扶手覆盖的岩壁。</td>\n      <td>一个穿红色衬衫的攀岩者。</td>\n      <td>一个攀岩者正在一面攀岩壁上练习。</td>\n    </tr>\n  </tbody>\n</table>\n<p>884 rows × 5 columns</p>\n</div>"
     },
     "execution_count": 128,
     "metadata": {},
     "output_type": "execute_result"
    }
   ],
   "source": [
    "new_df = new_df.rename_axis(columns=None)\n",
    "new_df"
   ],
   "metadata": {
    "collapsed": false,
    "pycharm": {
     "name": "#%%\n"
    }
   }
  },
  {
   "cell_type": "code",
   "execution_count": 129,
   "outputs": [
    {
     "data": {
      "text/plain": "                            id                            1  \\\n0     191003285_edd8d0cf58.jpg            一个男人和一个女孩坐在地上吃东西。   \n1    1917265421_aeccf1ca38.jpg           人群中孩子们参加一项与猪有关的运动。   \n2    1962729184_6996e128e7.jpg   一个女孩在与其他孩子一起等待上学之前，亲吻她的母亲。   \n3     197107117_4b438b1872.jpg                 一个登山者从山顶往下看。   \n4     197504190_fd1fc3d4b7.jpg                 两个男孩在草地上踢足球。   \n..                         ...                          ...   \n879   929679367_ff8c7df2ee.jpg                    一只小狗在玩网球。   \n880    96420612_feb18fc6c6.jpg            一个穿着红色泳裤的男人跳上冲浪板。   \n881   968081289_cdba83ce2e.jpg          一个男孩在朋友的注视下从一个码头跳下。   \n882   979383193_0a542a059d.jpg               六个孩子坐在一个木制桌子旁。   \n883   997722733_0cb5439472.jpg              一个穿粉红色衬衫的人爬上岩石。   \n\n                                   2                           3  \\\n0     一个男人和一个小女孩正坐在人行道上，在蓝色的袋子旁边吃东西。      一个男人和一个年轻女孩在一个城市街道上吃饭。   \n1                           孩子们和猪玩耍。           人们聚集在一起看一群孩子和一头猪。   \n2                  一群穿着蓝衣服的小孩站在一扇门前。              一群身穿校服的学生站在门前。   \n3                   一个人在两个巨大的岩石面间攀岩。          一个攀岩者攀爬在两个非常大的岩石间。   \n4                       两个孩子在草地上玩足球。               两个孩子在草地上玩一个球。   \n..                               ...                         ...   \n879                     一只小狗正在玩一个网球。      一只小狗在整修很好的灌木丛小道上玩一个网球。   \n880          一个穿着红色运动短裤的男人扶着冲浪板飞跃空中。         一个带着尾板的人在并非水面的表面俯冲。   \n881               两个男孩爬上一个木制平台，跳进河里。                两个男孩从码头跳进水里。   \n882             一群亚洲的孩子们在一张桌子前摆姿势拍照。   六个孩子，都有着黑色的头发，坐在一张桌子旁边拍照。   \n883                       一个人在高空中攀岩。   一位穿着红色衬衫的人正在爬上一个有扶手覆盖的岩壁。   \n\n                                      4                                  5  \n0     一个穿着黑色衬衫的男子和一个穿着橙色衬衫的女孩坐在人行道上吃东西。   穿着黑色衬衫的男人和一个穿着橘黄色连衣裙的小女孩正共享一顿美餐。  \n1                    一个孩子在一群人的围观下爱抚一头猪。                    年轻的孩子们正在抚摸一只小猪。  \n2                             在水域附近的人群。         一群穿着校服的孩子站在大门口，一个正在吻别她的母亲。  \n3              在湛蓝天空的映衬下，一个攀岩者在峭壁上探出身子。          两座大山高耸入空中，而一个人正在尝试攀登其中一座。  \n4                           两个孩子在公园踢足球。               两个小男孩正在户外玩足球在一片绿草地上。  \n..                                  ...                                ...  \n879                      一只小狗在一条石头路玩网球。               一只白足的比格犬在公园小径上玩一个网球。  \n880                     一个赤裸上身的男人做身体冲浪。                      男人正下滑到他的滑水板上。  \n881               两个男孩准备从一片很大的水域的码头跳下去。                     两个孩子从码头上跳进了湖里。  \n882                         一张桌子上的六个孩子。                      六个坐在一张桌子上的小孩。  \n883                        一个穿红色衬衫的攀岩者。                   一个攀岩者正在一面攀岩壁上练习。  \n\n[884 rows x 6 columns]",
      "text/html": "<div>\n<style scoped>\n    .dataframe tbody tr th:only-of-type {\n        vertical-align: middle;\n    }\n\n    .dataframe tbody tr th {\n        vertical-align: top;\n    }\n\n    .dataframe thead th {\n        text-align: right;\n    }\n</style>\n<table border=\"1\" class=\"dataframe\">\n  <thead>\n    <tr style=\"text-align: right;\">\n      <th></th>\n      <th>id</th>\n      <th>1</th>\n      <th>2</th>\n      <th>3</th>\n      <th>4</th>\n      <th>5</th>\n    </tr>\n  </thead>\n  <tbody>\n    <tr>\n      <th>0</th>\n      <td>191003285_edd8d0cf58.jpg</td>\n      <td>一个男人和一个女孩坐在地上吃东西。</td>\n      <td>一个男人和一个小女孩正坐在人行道上，在蓝色的袋子旁边吃东西。</td>\n      <td>一个男人和一个年轻女孩在一个城市街道上吃饭。</td>\n      <td>一个穿着黑色衬衫的男子和一个穿着橙色衬衫的女孩坐在人行道上吃东西。</td>\n      <td>穿着黑色衬衫的男人和一个穿着橘黄色连衣裙的小女孩正共享一顿美餐。</td>\n    </tr>\n    <tr>\n      <th>1</th>\n      <td>1917265421_aeccf1ca38.jpg</td>\n      <td>人群中孩子们参加一项与猪有关的运动。</td>\n      <td>孩子们和猪玩耍。</td>\n      <td>人们聚集在一起看一群孩子和一头猪。</td>\n      <td>一个孩子在一群人的围观下爱抚一头猪。</td>\n      <td>年轻的孩子们正在抚摸一只小猪。</td>\n    </tr>\n    <tr>\n      <th>2</th>\n      <td>1962729184_6996e128e7.jpg</td>\n      <td>一个女孩在与其他孩子一起等待上学之前，亲吻她的母亲。</td>\n      <td>一群穿着蓝衣服的小孩站在一扇门前。</td>\n      <td>一群身穿校服的学生站在门前。</td>\n      <td>在水域附近的人群。</td>\n      <td>一群穿着校服的孩子站在大门口，一个正在吻别她的母亲。</td>\n    </tr>\n    <tr>\n      <th>3</th>\n      <td>197107117_4b438b1872.jpg</td>\n      <td>一个登山者从山顶往下看。</td>\n      <td>一个人在两个巨大的岩石面间攀岩。</td>\n      <td>一个攀岩者攀爬在两个非常大的岩石间。</td>\n      <td>在湛蓝天空的映衬下，一个攀岩者在峭壁上探出身子。</td>\n      <td>两座大山高耸入空中，而一个人正在尝试攀登其中一座。</td>\n    </tr>\n    <tr>\n      <th>4</th>\n      <td>197504190_fd1fc3d4b7.jpg</td>\n      <td>两个男孩在草地上踢足球。</td>\n      <td>两个孩子在草地上玩足球。</td>\n      <td>两个孩子在草地上玩一个球。</td>\n      <td>两个孩子在公园踢足球。</td>\n      <td>两个小男孩正在户外玩足球在一片绿草地上。</td>\n    </tr>\n    <tr>\n      <th>...</th>\n      <td>...</td>\n      <td>...</td>\n      <td>...</td>\n      <td>...</td>\n      <td>...</td>\n      <td>...</td>\n    </tr>\n    <tr>\n      <th>879</th>\n      <td>929679367_ff8c7df2ee.jpg</td>\n      <td>一只小狗在玩网球。</td>\n      <td>一只小狗正在玩一个网球。</td>\n      <td>一只小狗在整修很好的灌木丛小道上玩一个网球。</td>\n      <td>一只小狗在一条石头路玩网球。</td>\n      <td>一只白足的比格犬在公园小径上玩一个网球。</td>\n    </tr>\n    <tr>\n      <th>880</th>\n      <td>96420612_feb18fc6c6.jpg</td>\n      <td>一个穿着红色泳裤的男人跳上冲浪板。</td>\n      <td>一个穿着红色运动短裤的男人扶着冲浪板飞跃空中。</td>\n      <td>一个带着尾板的人在并非水面的表面俯冲。</td>\n      <td>一个赤裸上身的男人做身体冲浪。</td>\n      <td>男人正下滑到他的滑水板上。</td>\n    </tr>\n    <tr>\n      <th>881</th>\n      <td>968081289_cdba83ce2e.jpg</td>\n      <td>一个男孩在朋友的注视下从一个码头跳下。</td>\n      <td>两个男孩爬上一个木制平台，跳进河里。</td>\n      <td>两个男孩从码头跳进水里。</td>\n      <td>两个男孩准备从一片很大的水域的码头跳下去。</td>\n      <td>两个孩子从码头上跳进了湖里。</td>\n    </tr>\n    <tr>\n      <th>882</th>\n      <td>979383193_0a542a059d.jpg</td>\n      <td>六个孩子坐在一个木制桌子旁。</td>\n      <td>一群亚洲的孩子们在一张桌子前摆姿势拍照。</td>\n      <td>六个孩子，都有着黑色的头发，坐在一张桌子旁边拍照。</td>\n      <td>一张桌子上的六个孩子。</td>\n      <td>六个坐在一张桌子上的小孩。</td>\n    </tr>\n    <tr>\n      <th>883</th>\n      <td>997722733_0cb5439472.jpg</td>\n      <td>一个穿粉红色衬衫的人爬上岩石。</td>\n      <td>一个人在高空中攀岩。</td>\n      <td>一位穿着红色衬衫的人正在爬上一个有扶手覆盖的岩壁。</td>\n      <td>一个穿红色衬衫的攀岩者。</td>\n      <td>一个攀岩者正在一面攀岩壁上练习。</td>\n    </tr>\n  </tbody>\n</table>\n<p>884 rows × 6 columns</p>\n</div>"
     },
     "execution_count": 129,
     "metadata": {},
     "output_type": "execute_result"
    }
   ],
   "source": [
    "new_df = new_df.reset_index()\n",
    "new_df\n"
   ],
   "metadata": {
    "collapsed": false,
    "pycharm": {
     "name": "#%%\n"
    }
   }
  },
  {
   "cell_type": "code",
   "execution_count": 130,
   "outputs": [
    {
     "data": {
      "text/plain": "                            id                            1  \\\n0     191003285_edd8d0cf58.jpg            一个男人和一个女孩坐在地上吃东西。   \n1    1917265421_aeccf1ca38.jpg           人群中孩子们参加一项与猪有关的运动。   \n2    1962729184_6996e128e7.jpg   一个女孩在与其他孩子一起等待上学之前，亲吻她的母亲。   \n3     197107117_4b438b1872.jpg                 一个登山者从山顶往下看。   \n4     197504190_fd1fc3d4b7.jpg                 两个男孩在草地上踢足球。   \n..                         ...                          ...   \n876   929679367_ff8c7df2ee.jpg                    一只小狗在玩网球。   \n877    96420612_feb18fc6c6.jpg            一个穿着红色泳裤的男人跳上冲浪板。   \n878   968081289_cdba83ce2e.jpg          一个男孩在朋友的注视下从一个码头跳下。   \n879   979383193_0a542a059d.jpg               六个孩子坐在一个木制桌子旁。   \n880   997722733_0cb5439472.jpg              一个穿粉红色衬衫的人爬上岩石。   \n\n                                   2                           3  \\\n0     一个男人和一个小女孩正坐在人行道上，在蓝色的袋子旁边吃东西。      一个男人和一个年轻女孩在一个城市街道上吃饭。   \n1                           孩子们和猪玩耍。           人们聚集在一起看一群孩子和一头猪。   \n2                  一群穿着蓝衣服的小孩站在一扇门前。              一群身穿校服的学生站在门前。   \n3                   一个人在两个巨大的岩石面间攀岩。          一个攀岩者攀爬在两个非常大的岩石间。   \n4                       两个孩子在草地上玩足球。               两个孩子在草地上玩一个球。   \n..                               ...                         ...   \n876                     一只小狗正在玩一个网球。      一只小狗在整修很好的灌木丛小道上玩一个网球。   \n877          一个穿着红色运动短裤的男人扶着冲浪板飞跃空中。         一个带着尾板的人在并非水面的表面俯冲。   \n878               两个男孩爬上一个木制平台，跳进河里。                两个男孩从码头跳进水里。   \n879             一群亚洲的孩子们在一张桌子前摆姿势拍照。   六个孩子，都有着黑色的头发，坐在一张桌子旁边拍照。   \n880                       一个人在高空中攀岩。   一位穿着红色衬衫的人正在爬上一个有扶手覆盖的岩壁。   \n\n                                      4                                  5  \\\n0     一个穿着黑色衬衫的男子和一个穿着橙色衬衫的女孩坐在人行道上吃东西。   穿着黑色衬衫的男人和一个穿着橘黄色连衣裙的小女孩正共享一顿美餐。   \n1                    一个孩子在一群人的围观下爱抚一头猪。                    年轻的孩子们正在抚摸一只小猪。   \n2                             在水域附近的人群。         一群穿着校服的孩子站在大门口，一个正在吻别她的母亲。   \n3              在湛蓝天空的映衬下，一个攀岩者在峭壁上探出身子。          两座大山高耸入空中，而一个人正在尝试攀登其中一座。   \n4                           两个孩子在公园踢足球。               两个小男孩正在户外玩足球在一片绿草地上。   \n..                                  ...                                ...   \n876                      一只小狗在一条石头路玩网球。               一只白足的比格犬在公园小径上玩一个网球。   \n877                     一个赤裸上身的男人做身体冲浪。                      男人正下滑到他的滑水板上。   \n878               两个男孩准备从一片很大的水域的码头跳下去。                     两个孩子从码头上跳进了湖里。   \n879                         一张桌子上的六个孩子。                      六个坐在一张桌子上的小孩。   \n880                        一个穿红色衬衫的攀岩者。                   一个攀岩者正在一面攀岩壁上练习。   \n\n                    sentence  humanscore  \n0                  一个孩子坐在墙上。         1.4  \n1               孩子们在草地上的一堆泥。         3.2  \n2            一群人在一个明亮的灯光下行走。         4.0  \n3         一个人爬上一座岩石墙，看着身后的树。         3.2  \n4    一个男人在一个黄色的背心，在一个愉快的公园里。         2.8  \n..                       ...         ...  \n876                两只狗在户外玩耍。         2.8  \n877             一个小男孩在海滩上玩网球         2.0  \n878           一个小男孩在码头上做了倒立。         3.2  \n879             一群孩子在壁炉中或电车。         3.8  \n880            一个人在悬崖上跳过一个大墙         2.6  \n\n[881 rows x 8 columns]",
      "text/html": "<div>\n<style scoped>\n    .dataframe tbody tr th:only-of-type {\n        vertical-align: middle;\n    }\n\n    .dataframe tbody tr th {\n        vertical-align: top;\n    }\n\n    .dataframe thead th {\n        text-align: right;\n    }\n</style>\n<table border=\"1\" class=\"dataframe\">\n  <thead>\n    <tr style=\"text-align: right;\">\n      <th></th>\n      <th>id</th>\n      <th>1</th>\n      <th>2</th>\n      <th>3</th>\n      <th>4</th>\n      <th>5</th>\n      <th>sentence</th>\n      <th>humanscore</th>\n    </tr>\n  </thead>\n  <tbody>\n    <tr>\n      <th>0</th>\n      <td>191003285_edd8d0cf58.jpg</td>\n      <td>一个男人和一个女孩坐在地上吃东西。</td>\n      <td>一个男人和一个小女孩正坐在人行道上，在蓝色的袋子旁边吃东西。</td>\n      <td>一个男人和一个年轻女孩在一个城市街道上吃饭。</td>\n      <td>一个穿着黑色衬衫的男子和一个穿着橙色衬衫的女孩坐在人行道上吃东西。</td>\n      <td>穿着黑色衬衫的男人和一个穿着橘黄色连衣裙的小女孩正共享一顿美餐。</td>\n      <td>一个孩子坐在墙上。</td>\n      <td>1.4</td>\n    </tr>\n    <tr>\n      <th>1</th>\n      <td>1917265421_aeccf1ca38.jpg</td>\n      <td>人群中孩子们参加一项与猪有关的运动。</td>\n      <td>孩子们和猪玩耍。</td>\n      <td>人们聚集在一起看一群孩子和一头猪。</td>\n      <td>一个孩子在一群人的围观下爱抚一头猪。</td>\n      <td>年轻的孩子们正在抚摸一只小猪。</td>\n      <td>孩子们在草地上的一堆泥。</td>\n      <td>3.2</td>\n    </tr>\n    <tr>\n      <th>2</th>\n      <td>1962729184_6996e128e7.jpg</td>\n      <td>一个女孩在与其他孩子一起等待上学之前，亲吻她的母亲。</td>\n      <td>一群穿着蓝衣服的小孩站在一扇门前。</td>\n      <td>一群身穿校服的学生站在门前。</td>\n      <td>在水域附近的人群。</td>\n      <td>一群穿着校服的孩子站在大门口，一个正在吻别她的母亲。</td>\n      <td>一群人在一个明亮的灯光下行走。</td>\n      <td>4.0</td>\n    </tr>\n    <tr>\n      <th>3</th>\n      <td>197107117_4b438b1872.jpg</td>\n      <td>一个登山者从山顶往下看。</td>\n      <td>一个人在两个巨大的岩石面间攀岩。</td>\n      <td>一个攀岩者攀爬在两个非常大的岩石间。</td>\n      <td>在湛蓝天空的映衬下，一个攀岩者在峭壁上探出身子。</td>\n      <td>两座大山高耸入空中，而一个人正在尝试攀登其中一座。</td>\n      <td>一个人爬上一座岩石墙，看着身后的树。</td>\n      <td>3.2</td>\n    </tr>\n    <tr>\n      <th>4</th>\n      <td>197504190_fd1fc3d4b7.jpg</td>\n      <td>两个男孩在草地上踢足球。</td>\n      <td>两个孩子在草地上玩足球。</td>\n      <td>两个孩子在草地上玩一个球。</td>\n      <td>两个孩子在公园踢足球。</td>\n      <td>两个小男孩正在户外玩足球在一片绿草地上。</td>\n      <td>一个男人在一个黄色的背心，在一个愉快的公园里。</td>\n      <td>2.8</td>\n    </tr>\n    <tr>\n      <th>...</th>\n      <td>...</td>\n      <td>...</td>\n      <td>...</td>\n      <td>...</td>\n      <td>...</td>\n      <td>...</td>\n      <td>...</td>\n      <td>...</td>\n    </tr>\n    <tr>\n      <th>876</th>\n      <td>929679367_ff8c7df2ee.jpg</td>\n      <td>一只小狗在玩网球。</td>\n      <td>一只小狗正在玩一个网球。</td>\n      <td>一只小狗在整修很好的灌木丛小道上玩一个网球。</td>\n      <td>一只小狗在一条石头路玩网球。</td>\n      <td>一只白足的比格犬在公园小径上玩一个网球。</td>\n      <td>两只狗在户外玩耍。</td>\n      <td>2.8</td>\n    </tr>\n    <tr>\n      <th>877</th>\n      <td>96420612_feb18fc6c6.jpg</td>\n      <td>一个穿着红色泳裤的男人跳上冲浪板。</td>\n      <td>一个穿着红色运动短裤的男人扶着冲浪板飞跃空中。</td>\n      <td>一个带着尾板的人在并非水面的表面俯冲。</td>\n      <td>一个赤裸上身的男人做身体冲浪。</td>\n      <td>男人正下滑到他的滑水板上。</td>\n      <td>一个小男孩在海滩上玩网球</td>\n      <td>2.0</td>\n    </tr>\n    <tr>\n      <th>878</th>\n      <td>968081289_cdba83ce2e.jpg</td>\n      <td>一个男孩在朋友的注视下从一个码头跳下。</td>\n      <td>两个男孩爬上一个木制平台，跳进河里。</td>\n      <td>两个男孩从码头跳进水里。</td>\n      <td>两个男孩准备从一片很大的水域的码头跳下去。</td>\n      <td>两个孩子从码头上跳进了湖里。</td>\n      <td>一个小男孩在码头上做了倒立。</td>\n      <td>3.2</td>\n    </tr>\n    <tr>\n      <th>879</th>\n      <td>979383193_0a542a059d.jpg</td>\n      <td>六个孩子坐在一个木制桌子旁。</td>\n      <td>一群亚洲的孩子们在一张桌子前摆姿势拍照。</td>\n      <td>六个孩子，都有着黑色的头发，坐在一张桌子旁边拍照。</td>\n      <td>一张桌子上的六个孩子。</td>\n      <td>六个坐在一张桌子上的小孩。</td>\n      <td>一群孩子在壁炉中或电车。</td>\n      <td>3.8</td>\n    </tr>\n    <tr>\n      <th>880</th>\n      <td>997722733_0cb5439472.jpg</td>\n      <td>一个穿粉红色衬衫的人爬上岩石。</td>\n      <td>一个人在高空中攀岩。</td>\n      <td>一位穿着红色衬衫的人正在爬上一个有扶手覆盖的岩壁。</td>\n      <td>一个穿红色衬衫的攀岩者。</td>\n      <td>一个攀岩者正在一面攀岩壁上练习。</td>\n      <td>一个人在悬崖上跳过一个大墙</td>\n      <td>2.6</td>\n    </tr>\n  </tbody>\n</table>\n<p>881 rows × 8 columns</p>\n</div>"
     },
     "execution_count": 130,
     "metadata": {},
     "output_type": "execute_result"
    }
   ],
   "source": [
    "df_train = pd.merge(new_df, df_train, how='inner', on=['id'])\n",
    "df_train"
   ],
   "metadata": {
    "collapsed": false,
    "pycharm": {
     "name": "#%%\n"
    }
   }
  },
  {
   "cell_type": "code",
   "execution_count": 131,
   "outputs": [
    {
     "data": {
      "text/plain": "                            id                   reference1  \\\n0     191003285_edd8d0cf58.jpg            一个男人和一个女孩坐在地上吃东西。   \n1    1917265421_aeccf1ca38.jpg           人群中孩子们参加一项与猪有关的运动。   \n2    1962729184_6996e128e7.jpg   一个女孩在与其他孩子一起等待上学之前，亲吻她的母亲。   \n3     197107117_4b438b1872.jpg                 一个登山者从山顶往下看。   \n4     197504190_fd1fc3d4b7.jpg                 两个男孩在草地上踢足球。   \n..                         ...                          ...   \n876   929679367_ff8c7df2ee.jpg                    一只小狗在玩网球。   \n877    96420612_feb18fc6c6.jpg            一个穿着红色泳裤的男人跳上冲浪板。   \n878   968081289_cdba83ce2e.jpg          一个男孩在朋友的注视下从一个码头跳下。   \n879   979383193_0a542a059d.jpg               六个孩子坐在一个木制桌子旁。   \n880   997722733_0cb5439472.jpg              一个穿粉红色衬衫的人爬上岩石。   \n\n                          reference2                  reference3  \\\n0     一个男人和一个小女孩正坐在人行道上，在蓝色的袋子旁边吃东西。      一个男人和一个年轻女孩在一个城市街道上吃饭。   \n1                           孩子们和猪玩耍。           人们聚集在一起看一群孩子和一头猪。   \n2                  一群穿着蓝衣服的小孩站在一扇门前。              一群身穿校服的学生站在门前。   \n3                   一个人在两个巨大的岩石面间攀岩。          一个攀岩者攀爬在两个非常大的岩石间。   \n4                       两个孩子在草地上玩足球。               两个孩子在草地上玩一个球。   \n..                               ...                         ...   \n876                     一只小狗正在玩一个网球。      一只小狗在整修很好的灌木丛小道上玩一个网球。   \n877          一个穿着红色运动短裤的男人扶着冲浪板飞跃空中。         一个带着尾板的人在并非水面的表面俯冲。   \n878               两个男孩爬上一个木制平台，跳进河里。                两个男孩从码头跳进水里。   \n879             一群亚洲的孩子们在一张桌子前摆姿势拍照。   六个孩子，都有着黑色的头发，坐在一张桌子旁边拍照。   \n880                       一个人在高空中攀岩。   一位穿着红色衬衫的人正在爬上一个有扶手覆盖的岩壁。   \n\n                             reference4                         reference5  \\\n0     一个穿着黑色衬衫的男子和一个穿着橙色衬衫的女孩坐在人行道上吃东西。   穿着黑色衬衫的男人和一个穿着橘黄色连衣裙的小女孩正共享一顿美餐。   \n1                    一个孩子在一群人的围观下爱抚一头猪。                    年轻的孩子们正在抚摸一只小猪。   \n2                             在水域附近的人群。         一群穿着校服的孩子站在大门口，一个正在吻别她的母亲。   \n3              在湛蓝天空的映衬下，一个攀岩者在峭壁上探出身子。          两座大山高耸入空中，而一个人正在尝试攀登其中一座。   \n4                           两个孩子在公园踢足球。               两个小男孩正在户外玩足球在一片绿草地上。   \n..                                  ...                                ...   \n876                      一只小狗在一条石头路玩网球。               一只白足的比格犬在公园小径上玩一个网球。   \n877                     一个赤裸上身的男人做身体冲浪。                      男人正下滑到他的滑水板上。   \n878               两个男孩准备从一片很大的水域的码头跳下去。                     两个孩子从码头上跳进了湖里。   \n879                         一张桌子上的六个孩子。                      六个坐在一张桌子上的小孩。   \n880                        一个穿红色衬衫的攀岩者。                   一个攀岩者正在一面攀岩壁上练习。   \n\n                   candidate  score  \n0                  一个孩子坐在墙上。    1.4  \n1               孩子们在草地上的一堆泥。    3.2  \n2            一群人在一个明亮的灯光下行走。    4.0  \n3         一个人爬上一座岩石墙，看着身后的树。    3.2  \n4    一个男人在一个黄色的背心，在一个愉快的公园里。    2.8  \n..                       ...    ...  \n876                两只狗在户外玩耍。    2.8  \n877             一个小男孩在海滩上玩网球    2.0  \n878           一个小男孩在码头上做了倒立。    3.2  \n879             一群孩子在壁炉中或电车。    3.8  \n880            一个人在悬崖上跳过一个大墙    2.6  \n\n[881 rows x 8 columns]",
      "text/html": "<div>\n<style scoped>\n    .dataframe tbody tr th:only-of-type {\n        vertical-align: middle;\n    }\n\n    .dataframe tbody tr th {\n        vertical-align: top;\n    }\n\n    .dataframe thead th {\n        text-align: right;\n    }\n</style>\n<table border=\"1\" class=\"dataframe\">\n  <thead>\n    <tr style=\"text-align: right;\">\n      <th></th>\n      <th>id</th>\n      <th>reference1</th>\n      <th>reference2</th>\n      <th>reference3</th>\n      <th>reference4</th>\n      <th>reference5</th>\n      <th>candidate</th>\n      <th>score</th>\n    </tr>\n  </thead>\n  <tbody>\n    <tr>\n      <th>0</th>\n      <td>191003285_edd8d0cf58.jpg</td>\n      <td>一个男人和一个女孩坐在地上吃东西。</td>\n      <td>一个男人和一个小女孩正坐在人行道上，在蓝色的袋子旁边吃东西。</td>\n      <td>一个男人和一个年轻女孩在一个城市街道上吃饭。</td>\n      <td>一个穿着黑色衬衫的男子和一个穿着橙色衬衫的女孩坐在人行道上吃东西。</td>\n      <td>穿着黑色衬衫的男人和一个穿着橘黄色连衣裙的小女孩正共享一顿美餐。</td>\n      <td>一个孩子坐在墙上。</td>\n      <td>1.4</td>\n    </tr>\n    <tr>\n      <th>1</th>\n      <td>1917265421_aeccf1ca38.jpg</td>\n      <td>人群中孩子们参加一项与猪有关的运动。</td>\n      <td>孩子们和猪玩耍。</td>\n      <td>人们聚集在一起看一群孩子和一头猪。</td>\n      <td>一个孩子在一群人的围观下爱抚一头猪。</td>\n      <td>年轻的孩子们正在抚摸一只小猪。</td>\n      <td>孩子们在草地上的一堆泥。</td>\n      <td>3.2</td>\n    </tr>\n    <tr>\n      <th>2</th>\n      <td>1962729184_6996e128e7.jpg</td>\n      <td>一个女孩在与其他孩子一起等待上学之前，亲吻她的母亲。</td>\n      <td>一群穿着蓝衣服的小孩站在一扇门前。</td>\n      <td>一群身穿校服的学生站在门前。</td>\n      <td>在水域附近的人群。</td>\n      <td>一群穿着校服的孩子站在大门口，一个正在吻别她的母亲。</td>\n      <td>一群人在一个明亮的灯光下行走。</td>\n      <td>4.0</td>\n    </tr>\n    <tr>\n      <th>3</th>\n      <td>197107117_4b438b1872.jpg</td>\n      <td>一个登山者从山顶往下看。</td>\n      <td>一个人在两个巨大的岩石面间攀岩。</td>\n      <td>一个攀岩者攀爬在两个非常大的岩石间。</td>\n      <td>在湛蓝天空的映衬下，一个攀岩者在峭壁上探出身子。</td>\n      <td>两座大山高耸入空中，而一个人正在尝试攀登其中一座。</td>\n      <td>一个人爬上一座岩石墙，看着身后的树。</td>\n      <td>3.2</td>\n    </tr>\n    <tr>\n      <th>4</th>\n      <td>197504190_fd1fc3d4b7.jpg</td>\n      <td>两个男孩在草地上踢足球。</td>\n      <td>两个孩子在草地上玩足球。</td>\n      <td>两个孩子在草地上玩一个球。</td>\n      <td>两个孩子在公园踢足球。</td>\n      <td>两个小男孩正在户外玩足球在一片绿草地上。</td>\n      <td>一个男人在一个黄色的背心，在一个愉快的公园里。</td>\n      <td>2.8</td>\n    </tr>\n    <tr>\n      <th>...</th>\n      <td>...</td>\n      <td>...</td>\n      <td>...</td>\n      <td>...</td>\n      <td>...</td>\n      <td>...</td>\n      <td>...</td>\n      <td>...</td>\n    </tr>\n    <tr>\n      <th>876</th>\n      <td>929679367_ff8c7df2ee.jpg</td>\n      <td>一只小狗在玩网球。</td>\n      <td>一只小狗正在玩一个网球。</td>\n      <td>一只小狗在整修很好的灌木丛小道上玩一个网球。</td>\n      <td>一只小狗在一条石头路玩网球。</td>\n      <td>一只白足的比格犬在公园小径上玩一个网球。</td>\n      <td>两只狗在户外玩耍。</td>\n      <td>2.8</td>\n    </tr>\n    <tr>\n      <th>877</th>\n      <td>96420612_feb18fc6c6.jpg</td>\n      <td>一个穿着红色泳裤的男人跳上冲浪板。</td>\n      <td>一个穿着红色运动短裤的男人扶着冲浪板飞跃空中。</td>\n      <td>一个带着尾板的人在并非水面的表面俯冲。</td>\n      <td>一个赤裸上身的男人做身体冲浪。</td>\n      <td>男人正下滑到他的滑水板上。</td>\n      <td>一个小男孩在海滩上玩网球</td>\n      <td>2.0</td>\n    </tr>\n    <tr>\n      <th>878</th>\n      <td>968081289_cdba83ce2e.jpg</td>\n      <td>一个男孩在朋友的注视下从一个码头跳下。</td>\n      <td>两个男孩爬上一个木制平台，跳进河里。</td>\n      <td>两个男孩从码头跳进水里。</td>\n      <td>两个男孩准备从一片很大的水域的码头跳下去。</td>\n      <td>两个孩子从码头上跳进了湖里。</td>\n      <td>一个小男孩在码头上做了倒立。</td>\n      <td>3.2</td>\n    </tr>\n    <tr>\n      <th>879</th>\n      <td>979383193_0a542a059d.jpg</td>\n      <td>六个孩子坐在一个木制桌子旁。</td>\n      <td>一群亚洲的孩子们在一张桌子前摆姿势拍照。</td>\n      <td>六个孩子，都有着黑色的头发，坐在一张桌子旁边拍照。</td>\n      <td>一张桌子上的六个孩子。</td>\n      <td>六个坐在一张桌子上的小孩。</td>\n      <td>一群孩子在壁炉中或电车。</td>\n      <td>3.8</td>\n    </tr>\n    <tr>\n      <th>880</th>\n      <td>997722733_0cb5439472.jpg</td>\n      <td>一个穿粉红色衬衫的人爬上岩石。</td>\n      <td>一个人在高空中攀岩。</td>\n      <td>一位穿着红色衬衫的人正在爬上一个有扶手覆盖的岩壁。</td>\n      <td>一个穿红色衬衫的攀岩者。</td>\n      <td>一个攀岩者正在一面攀岩壁上练习。</td>\n      <td>一个人在悬崖上跳过一个大墙</td>\n      <td>2.6</td>\n    </tr>\n  </tbody>\n</table>\n<p>881 rows × 8 columns</p>\n</div>"
     },
     "execution_count": 131,
     "metadata": {},
     "output_type": "execute_result"
    }
   ],
   "source": [
    "df_train.columns = ['id', 'reference1', 'reference2', 'reference3', 'reference4', 'reference5', 'candidate', 'score']\n",
    "df_train"
   ],
   "metadata": {
    "collapsed": false,
    "pycharm": {
     "name": "#%%\n"
    }
   }
  },
  {
   "cell_type": "markdown",
   "source": [
    "- 正则处理标点符号和多余空格"
   ],
   "metadata": {
    "collapsed": false
   }
  },
  {
   "cell_type": "code",
   "execution_count": 132,
   "outputs": [
    {
     "data": {
      "text/plain": "                            id                reference1  \\\n0     191003285_edd8d0cf58.jpg          一个男人和一个女孩坐在地上吃东西   \n1    1917265421_aeccf1ca38.jpg         人群中孩子们参加一项与猪有关的运动   \n2    1962729184_6996e128e7.jpg  一个女孩在与其他孩子一起等待上学之前亲吻她的母亲   \n3     197107117_4b438b1872.jpg               一个登山者从山顶往下看   \n4     197504190_fd1fc3d4b7.jpg               两个男孩在草地上踢足球   \n..                         ...                       ...   \n876   929679367_ff8c7df2ee.jpg                  一只小狗在玩网球   \n877    96420612_feb18fc6c6.jpg          一个穿着红色泳裤的男人跳上冲浪板   \n878   968081289_cdba83ce2e.jpg        一个男孩在朋友的注视下从一个码头跳下   \n879   979383193_0a542a059d.jpg             六个孩子坐在一个木制桌子旁   \n880   997722733_0cb5439472.jpg            一个穿粉红色衬衫的人爬上岩石   \n\n                       reference2                reference3  \\\n0    一个男人和一个小女孩正坐在人行道上在蓝色的袋子旁边吃东西     一个男人和一个年轻女孩在一个城市街道上吃饭   \n1                         孩子们和猪玩耍          人们聚集在一起看一群孩子和一头猪   \n2                一群穿着蓝衣服的小孩站在一扇门前             一群身穿校服的学生站在门前   \n3                 一个人在两个巨大的岩石面间攀岩         一个攀岩者攀爬在两个非常大的岩石间   \n4                     两个孩子在草地上玩足球              两个孩子在草地上玩一个球   \n..                            ...                       ...   \n876                   一只小狗正在玩一个网球     一只小狗在整修很好的灌木丛小道上玩一个网球   \n877        一个穿着红色运动短裤的男人扶着冲浪板飞跃空中        一个带着尾板的人在并非水面的表面俯冲   \n878              两个男孩爬上一个木制平台跳进河里               两个男孩从码头跳进水里   \n879           一群亚洲的孩子们在一张桌子前摆姿势拍照    六个孩子都有着黑色的头发坐在一张桌子旁边拍照   \n880                     一个人在高空中攀岩  一位穿着红色衬衫的人正在爬上一个有扶手覆盖的岩壁   \n\n                           reference4                       reference5  \\\n0    一个穿着黑色衬衫的男子和一个穿着橙色衬衫的女孩坐在人行道上吃东西  穿着黑色衬衫的男人和一个穿着橘黄色连衣裙的小女孩正共享一顿美餐   \n1                   一个孩子在一群人的围观下爱抚一头猪                   年轻的孩子们正在抚摸一只小猪   \n2                            在水域附近的人群         一群穿着校服的孩子站在大门口一个正在吻别她的母亲   \n3              在湛蓝天空的映衬下一个攀岩者在峭壁上探出身子          两座大山高耸入空中而一个人正在尝试攀登其中一座   \n4                          两个孩子在公园踢足球              两个小男孩正在户外玩足球在一片绿草地上   \n..                                ...                              ...   \n876                     一只小狗在一条石头路玩网球              一只白足的比格犬在公园小径上玩一个网球   \n877                    一个赤裸上身的男人做身体冲浪                     男人正下滑到他的滑水板上   \n878              两个男孩准备从一片很大的水域的码头跳下去                    两个孩子从码头上跳进了湖里   \n879                        一张桌子上的六个孩子                     六个坐在一张桌子上的小孩   \n880                       一个穿红色衬衫的攀岩者                  一个攀岩者正在一面攀岩壁上练习   \n\n                 candidate  score  \n0                 一个孩子坐在墙上    1.4  \n1              孩子们在草地上的一堆泥    3.2  \n2           一群人在一个明亮的灯光下行走    4.0  \n3         一个人爬上一座岩石墙看着身后的树    3.2  \n4    一个男人在一个黄色的背心在一个愉快的公园里    2.8  \n..                     ...    ...  \n876               两只狗在户外玩耍    2.8  \n877           一个小男孩在海滩上玩网球    2.0  \n878          一个小男孩在码头上做了倒立    3.2  \n879            一群孩子在壁炉中或电车    3.8  \n880          一个人在悬崖上跳过一个大墙    2.6  \n\n[881 rows x 8 columns]",
      "text/html": "<div>\n<style scoped>\n    .dataframe tbody tr th:only-of-type {\n        vertical-align: middle;\n    }\n\n    .dataframe tbody tr th {\n        vertical-align: top;\n    }\n\n    .dataframe thead th {\n        text-align: right;\n    }\n</style>\n<table border=\"1\" class=\"dataframe\">\n  <thead>\n    <tr style=\"text-align: right;\">\n      <th></th>\n      <th>id</th>\n      <th>reference1</th>\n      <th>reference2</th>\n      <th>reference3</th>\n      <th>reference4</th>\n      <th>reference5</th>\n      <th>candidate</th>\n      <th>score</th>\n    </tr>\n  </thead>\n  <tbody>\n    <tr>\n      <th>0</th>\n      <td>191003285_edd8d0cf58.jpg</td>\n      <td>一个男人和一个女孩坐在地上吃东西</td>\n      <td>一个男人和一个小女孩正坐在人行道上在蓝色的袋子旁边吃东西</td>\n      <td>一个男人和一个年轻女孩在一个城市街道上吃饭</td>\n      <td>一个穿着黑色衬衫的男子和一个穿着橙色衬衫的女孩坐在人行道上吃东西</td>\n      <td>穿着黑色衬衫的男人和一个穿着橘黄色连衣裙的小女孩正共享一顿美餐</td>\n      <td>一个孩子坐在墙上</td>\n      <td>1.4</td>\n    </tr>\n    <tr>\n      <th>1</th>\n      <td>1917265421_aeccf1ca38.jpg</td>\n      <td>人群中孩子们参加一项与猪有关的运动</td>\n      <td>孩子们和猪玩耍</td>\n      <td>人们聚集在一起看一群孩子和一头猪</td>\n      <td>一个孩子在一群人的围观下爱抚一头猪</td>\n      <td>年轻的孩子们正在抚摸一只小猪</td>\n      <td>孩子们在草地上的一堆泥</td>\n      <td>3.2</td>\n    </tr>\n    <tr>\n      <th>2</th>\n      <td>1962729184_6996e128e7.jpg</td>\n      <td>一个女孩在与其他孩子一起等待上学之前亲吻她的母亲</td>\n      <td>一群穿着蓝衣服的小孩站在一扇门前</td>\n      <td>一群身穿校服的学生站在门前</td>\n      <td>在水域附近的人群</td>\n      <td>一群穿着校服的孩子站在大门口一个正在吻别她的母亲</td>\n      <td>一群人在一个明亮的灯光下行走</td>\n      <td>4.0</td>\n    </tr>\n    <tr>\n      <th>3</th>\n      <td>197107117_4b438b1872.jpg</td>\n      <td>一个登山者从山顶往下看</td>\n      <td>一个人在两个巨大的岩石面间攀岩</td>\n      <td>一个攀岩者攀爬在两个非常大的岩石间</td>\n      <td>在湛蓝天空的映衬下一个攀岩者在峭壁上探出身子</td>\n      <td>两座大山高耸入空中而一个人正在尝试攀登其中一座</td>\n      <td>一个人爬上一座岩石墙看着身后的树</td>\n      <td>3.2</td>\n    </tr>\n    <tr>\n      <th>4</th>\n      <td>197504190_fd1fc3d4b7.jpg</td>\n      <td>两个男孩在草地上踢足球</td>\n      <td>两个孩子在草地上玩足球</td>\n      <td>两个孩子在草地上玩一个球</td>\n      <td>两个孩子在公园踢足球</td>\n      <td>两个小男孩正在户外玩足球在一片绿草地上</td>\n      <td>一个男人在一个黄色的背心在一个愉快的公园里</td>\n      <td>2.8</td>\n    </tr>\n    <tr>\n      <th>...</th>\n      <td>...</td>\n      <td>...</td>\n      <td>...</td>\n      <td>...</td>\n      <td>...</td>\n      <td>...</td>\n      <td>...</td>\n      <td>...</td>\n    </tr>\n    <tr>\n      <th>876</th>\n      <td>929679367_ff8c7df2ee.jpg</td>\n      <td>一只小狗在玩网球</td>\n      <td>一只小狗正在玩一个网球</td>\n      <td>一只小狗在整修很好的灌木丛小道上玩一个网球</td>\n      <td>一只小狗在一条石头路玩网球</td>\n      <td>一只白足的比格犬在公园小径上玩一个网球</td>\n      <td>两只狗在户外玩耍</td>\n      <td>2.8</td>\n    </tr>\n    <tr>\n      <th>877</th>\n      <td>96420612_feb18fc6c6.jpg</td>\n      <td>一个穿着红色泳裤的男人跳上冲浪板</td>\n      <td>一个穿着红色运动短裤的男人扶着冲浪板飞跃空中</td>\n      <td>一个带着尾板的人在并非水面的表面俯冲</td>\n      <td>一个赤裸上身的男人做身体冲浪</td>\n      <td>男人正下滑到他的滑水板上</td>\n      <td>一个小男孩在海滩上玩网球</td>\n      <td>2.0</td>\n    </tr>\n    <tr>\n      <th>878</th>\n      <td>968081289_cdba83ce2e.jpg</td>\n      <td>一个男孩在朋友的注视下从一个码头跳下</td>\n      <td>两个男孩爬上一个木制平台跳进河里</td>\n      <td>两个男孩从码头跳进水里</td>\n      <td>两个男孩准备从一片很大的水域的码头跳下去</td>\n      <td>两个孩子从码头上跳进了湖里</td>\n      <td>一个小男孩在码头上做了倒立</td>\n      <td>3.2</td>\n    </tr>\n    <tr>\n      <th>879</th>\n      <td>979383193_0a542a059d.jpg</td>\n      <td>六个孩子坐在一个木制桌子旁</td>\n      <td>一群亚洲的孩子们在一张桌子前摆姿势拍照</td>\n      <td>六个孩子都有着黑色的头发坐在一张桌子旁边拍照</td>\n      <td>一张桌子上的六个孩子</td>\n      <td>六个坐在一张桌子上的小孩</td>\n      <td>一群孩子在壁炉中或电车</td>\n      <td>3.8</td>\n    </tr>\n    <tr>\n      <th>880</th>\n      <td>997722733_0cb5439472.jpg</td>\n      <td>一个穿粉红色衬衫的人爬上岩石</td>\n      <td>一个人在高空中攀岩</td>\n      <td>一位穿着红色衬衫的人正在爬上一个有扶手覆盖的岩壁</td>\n      <td>一个穿红色衬衫的攀岩者</td>\n      <td>一个攀岩者正在一面攀岩壁上练习</td>\n      <td>一个人在悬崖上跳过一个大墙</td>\n      <td>2.6</td>\n    </tr>\n  </tbody>\n</table>\n<p>881 rows × 8 columns</p>\n</div>"
     },
     "execution_count": 132,
     "metadata": {},
     "output_type": "execute_result"
    }
   ],
   "source": [
    "p = re.compile(r'[^\\w|\\s]+|\\s+')\n",
    "df_train['reference1'] = [p.sub('', x) for x in df_train['reference1'].tolist()]\n",
    "df_train['reference2'] = [p.sub('', x) for x in df_train['reference2'].tolist()]\n",
    "df_train['reference3'] = [p.sub('', x) for x in df_train['reference3'].tolist()]\n",
    "df_train['reference4'] = [p.sub('', x) for x in df_train['reference4'].tolist()]\n",
    "df_train['reference5'] = [p.sub('', x) for x in df_train['reference5'].tolist()]\n",
    "df_train['candidate'] = [p.sub('', x) for x in df_train['candidate'].tolist()]\n",
    "\n",
    "df_train\n"
   ],
   "metadata": {
    "collapsed": false,
    "pycharm": {
     "name": "#%%\n"
    }
   }
  },
  {
   "cell_type": "code",
   "execution_count": 133,
   "outputs": [],
   "source": [
    "df_train.to_csv('data/train.csv', index=None)\n"
   ],
   "metadata": {
    "collapsed": false,
    "pycharm": {
     "name": "#%%\n"
    }
   }
  }
 ],
 "metadata": {
  "kernelspec": {
   "display_name": "Python 3",
   "language": "python",
   "name": "python3"
  },
  "language_info": {
   "codemirror_mode": {
    "name": "ipython",
    "version": 2
   },
   "file_extension": ".py",
   "mimetype": "text/x-python",
   "name": "python",
   "nbconvert_exporter": "python",
   "pygments_lexer": "ipython2",
   "version": "2.7.6"
  }
 },
 "nbformat": 4,
 "nbformat_minor": 0
}