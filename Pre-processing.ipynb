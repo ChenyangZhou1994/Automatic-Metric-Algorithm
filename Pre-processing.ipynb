{
 "cells": [
  {
   "cell_type": "markdown",
   "source": [
    "# Pre-processing"
   ],
   "metadata": {
    "collapsed": false,
    "pycharm": {
     "name": "#%% md\n"
    }
   }
  },
  {
   "cell_type": "code",
   "execution_count": 48,
   "outputs": [],
   "source": [
    "import pandas as pd\n",
    "import re\n",
    "import csv"
   ],
   "metadata": {
    "collapsed": false,
    "pycharm": {
     "name": "#%%\n"
    }
   }
  },
  {
   "cell_type": "code",
   "execution_count": 49,
   "outputs": [
    {
     "data": {
      "text/plain": "                             0    1\n0    3609032038_005c789f64.jpg  4.2\n1     241347204_007d83e252.jpg  3.4\n2    2774554310_007e980a90.jpg  3.6\n3    2431832075_00aa1a4457.jpg  4.0\n4    2419221084_01a14176b4.jpg  4.2\n..                         ...  ...\n879   757046028_ff5999f91b.jpg  2.0\n880  2054869561_ff723e9eab.jpg  1.8\n881  2100816230_ff866fb352.jpg  2.0\n882   929679367_ff8c7df2ee.jpg  2.8\n883   270816949_ffad112278.jpg  2.0\n\n[884 rows x 2 columns]",
      "text/html": "<div>\n<style scoped>\n    .dataframe tbody tr th:only-of-type {\n        vertical-align: middle;\n    }\n\n    .dataframe tbody tr th {\n        vertical-align: top;\n    }\n\n    .dataframe thead th {\n        text-align: right;\n    }\n</style>\n<table border=\"1\" class=\"dataframe\">\n  <thead>\n    <tr style=\"text-align: right;\">\n      <th></th>\n      <th>0</th>\n      <th>1</th>\n    </tr>\n  </thead>\n  <tbody>\n    <tr>\n      <th>0</th>\n      <td>3609032038_005c789f64.jpg</td>\n      <td>4.2</td>\n    </tr>\n    <tr>\n      <th>1</th>\n      <td>241347204_007d83e252.jpg</td>\n      <td>3.4</td>\n    </tr>\n    <tr>\n      <th>2</th>\n      <td>2774554310_007e980a90.jpg</td>\n      <td>3.6</td>\n    </tr>\n    <tr>\n      <th>3</th>\n      <td>2431832075_00aa1a4457.jpg</td>\n      <td>4.0</td>\n    </tr>\n    <tr>\n      <th>4</th>\n      <td>2419221084_01a14176b4.jpg</td>\n      <td>4.2</td>\n    </tr>\n    <tr>\n      <th>...</th>\n      <td>...</td>\n      <td>...</td>\n    </tr>\n    <tr>\n      <th>879</th>\n      <td>757046028_ff5999f91b.jpg</td>\n      <td>2.0</td>\n    </tr>\n    <tr>\n      <th>880</th>\n      <td>2054869561_ff723e9eab.jpg</td>\n      <td>1.8</td>\n    </tr>\n    <tr>\n      <th>881</th>\n      <td>2100816230_ff866fb352.jpg</td>\n      <td>2.0</td>\n    </tr>\n    <tr>\n      <th>882</th>\n      <td>929679367_ff8c7df2ee.jpg</td>\n      <td>2.8</td>\n    </tr>\n    <tr>\n      <th>883</th>\n      <td>270816949_ffad112278.jpg</td>\n      <td>2.0</td>\n    </tr>\n  </tbody>\n</table>\n<p>884 rows × 2 columns</p>\n</div>"
     },
     "execution_count": 49,
     "metadata": {},
     "output_type": "execute_result"
    }
   ],
   "source": [
    "df = pd.read_table('./rawdata/hummanjudgments.txt', sep='\\t', header=None)\n",
    "\n",
    "df"
   ],
   "metadata": {
    "collapsed": false,
    "pycharm": {
     "name": "#%%\n"
    }
   }
  },
  {
   "cell_type": "code",
   "execution_count": 50,
   "outputs": [],
   "source": [
    "df.columns = ['id', 'score']\n",
    "df.to_csv('././data/train_score.csv', index=None)"
   ],
   "metadata": {
    "collapsed": false,
    "pycharm": {
     "name": "#%%\n"
    }
   }
  },
  {
   "cell_type": "code",
   "execution_count": 51,
   "outputs": [
    {
     "data": {
      "text/plain": "                                                     0                    1\n0    image/Flicker8k_all_resized/3385593926_d3e9c21...  在一个粉红色的背心的女孩在滑板上滑动。\n1    image/Flicker8k_all_resized/2677656448_6b7e770...      一个游泳的男孩在游泳池里游泳。\n2    image/Flicker8k_all_resized/311146855_0b65fdb1...   一个孩子在一个红色的衣服里拿着雨伞。\n3    image/Flicker8k_all_resized/241347760_d44c8d3a...  一个穿着红色制服的足球运动员拿着足球。\n4    image/Flicker8k_all_resized/2654514044_a70a6e2...         一只棕色的狗跳到草地上。\n..                                                 ...                  ...\n879  image/Flicker8k_all_resized/3727752439_9077956...       一个小女孩在走廊上跑了下来。\n880  image/Flicker8k_all_resized/3430607596_7e4f74e...        一个女孩在一个海滩上跑过。\n881  image/Flicker8k_all_resized/3259666643_ae49524...  一个戴着蓝色衬衫和墨镜的女人站在街上。\n882  image/Flicker8k_all_resized/2623930900_b9df917...     一个女孩在游泳池里被带上了一次。\n883  image/Flicker8k_all_resized/3490736665_38710f4...           一个人坐在人行道上。\n\n[884 rows x 2 columns]",
      "text/html": "<div>\n<style scoped>\n    .dataframe tbody tr th:only-of-type {\n        vertical-align: middle;\n    }\n\n    .dataframe tbody tr th {\n        vertical-align: top;\n    }\n\n    .dataframe thead th {\n        text-align: right;\n    }\n</style>\n<table border=\"1\" class=\"dataframe\">\n  <thead>\n    <tr style=\"text-align: right;\">\n      <th></th>\n      <th>0</th>\n      <th>1</th>\n    </tr>\n  </thead>\n  <tbody>\n    <tr>\n      <th>0</th>\n      <td>image/Flicker8k_all_resized/3385593926_d3e9c21...</td>\n      <td>在一个粉红色的背心的女孩在滑板上滑动。</td>\n    </tr>\n    <tr>\n      <th>1</th>\n      <td>image/Flicker8k_all_resized/2677656448_6b7e770...</td>\n      <td>一个游泳的男孩在游泳池里游泳。</td>\n    </tr>\n    <tr>\n      <th>2</th>\n      <td>image/Flicker8k_all_resized/311146855_0b65fdb1...</td>\n      <td>一个孩子在一个红色的衣服里拿着雨伞。</td>\n    </tr>\n    <tr>\n      <th>3</th>\n      <td>image/Flicker8k_all_resized/241347760_d44c8d3a...</td>\n      <td>一个穿着红色制服的足球运动员拿着足球。</td>\n    </tr>\n    <tr>\n      <th>4</th>\n      <td>image/Flicker8k_all_resized/2654514044_a70a6e2...</td>\n      <td>一只棕色的狗跳到草地上。</td>\n    </tr>\n    <tr>\n      <th>...</th>\n      <td>...</td>\n      <td>...</td>\n    </tr>\n    <tr>\n      <th>879</th>\n      <td>image/Flicker8k_all_resized/3727752439_9077956...</td>\n      <td>一个小女孩在走廊上跑了下来。</td>\n    </tr>\n    <tr>\n      <th>880</th>\n      <td>image/Flicker8k_all_resized/3430607596_7e4f74e...</td>\n      <td>一个女孩在一个海滩上跑过。</td>\n    </tr>\n    <tr>\n      <th>881</th>\n      <td>image/Flicker8k_all_resized/3259666643_ae49524...</td>\n      <td>一个戴着蓝色衬衫和墨镜的女人站在街上。</td>\n    </tr>\n    <tr>\n      <th>882</th>\n      <td>image/Flicker8k_all_resized/2623930900_b9df917...</td>\n      <td>一个女孩在游泳池里被带上了一次。</td>\n    </tr>\n    <tr>\n      <th>883</th>\n      <td>image/Flicker8k_all_resized/3490736665_38710f4...</td>\n      <td>一个人坐在人行道上。</td>\n    </tr>\n  </tbody>\n</table>\n<p>884 rows × 2 columns</p>\n</div>"
     },
     "execution_count": 51,
     "metadata": {},
     "output_type": "execute_result"
    }
   ],
   "source": [
    "df1 = pd.read_table('./rawdata/autocaption.txt', sep=':', header=None)\n",
    "\n",
    "df1\n",
    "# image/Flicker8k_all_resized/3385593926_d3e9c21170.jpg:在一个粉红色的背心的女孩在滑板上滑动。"
   ],
   "metadata": {
    "collapsed": false,
    "pycharm": {
     "name": "#%%\n"
    }
   }
  },
  {
   "cell_type": "code",
   "execution_count": 52,
   "outputs": [
    {
     "data": {
      "text/plain": "                                                    id             sentence\n0    image/Flicker8k_all_resized/3385593926_d3e9c21...  在一个粉红色的背心的女孩在滑板上滑动。\n1    image/Flicker8k_all_resized/2677656448_6b7e770...      一个游泳的男孩在游泳池里游泳。\n2    image/Flicker8k_all_resized/311146855_0b65fdb1...   一个孩子在一个红色的衣服里拿着雨伞。\n3    image/Flicker8k_all_resized/241347760_d44c8d3a...  一个穿着红色制服的足球运动员拿着足球。\n4    image/Flicker8k_all_resized/2654514044_a70a6e2...         一只棕色的狗跳到草地上。\n..                                                 ...                  ...\n879  image/Flicker8k_all_resized/3727752439_9077956...       一个小女孩在走廊上跑了下来。\n880  image/Flicker8k_all_resized/3430607596_7e4f74e...        一个女孩在一个海滩上跑过。\n881  image/Flicker8k_all_resized/3259666643_ae49524...  一个戴着蓝色衬衫和墨镜的女人站在街上。\n882  image/Flicker8k_all_resized/2623930900_b9df917...     一个女孩在游泳池里被带上了一次。\n883  image/Flicker8k_all_resized/3490736665_38710f4...           一个人坐在人行道上。\n\n[884 rows x 2 columns]",
      "text/html": "<div>\n<style scoped>\n    .dataframe tbody tr th:only-of-type {\n        vertical-align: middle;\n    }\n\n    .dataframe tbody tr th {\n        vertical-align: top;\n    }\n\n    .dataframe thead th {\n        text-align: right;\n    }\n</style>\n<table border=\"1\" class=\"dataframe\">\n  <thead>\n    <tr style=\"text-align: right;\">\n      <th></th>\n      <th>id</th>\n      <th>sentence</th>\n    </tr>\n  </thead>\n  <tbody>\n    <tr>\n      <th>0</th>\n      <td>image/Flicker8k_all_resized/3385593926_d3e9c21...</td>\n      <td>在一个粉红色的背心的女孩在滑板上滑动。</td>\n    </tr>\n    <tr>\n      <th>1</th>\n      <td>image/Flicker8k_all_resized/2677656448_6b7e770...</td>\n      <td>一个游泳的男孩在游泳池里游泳。</td>\n    </tr>\n    <tr>\n      <th>2</th>\n      <td>image/Flicker8k_all_resized/311146855_0b65fdb1...</td>\n      <td>一个孩子在一个红色的衣服里拿着雨伞。</td>\n    </tr>\n    <tr>\n      <th>3</th>\n      <td>image/Flicker8k_all_resized/241347760_d44c8d3a...</td>\n      <td>一个穿着红色制服的足球运动员拿着足球。</td>\n    </tr>\n    <tr>\n      <th>4</th>\n      <td>image/Flicker8k_all_resized/2654514044_a70a6e2...</td>\n      <td>一只棕色的狗跳到草地上。</td>\n    </tr>\n    <tr>\n      <th>...</th>\n      <td>...</td>\n      <td>...</td>\n    </tr>\n    <tr>\n      <th>879</th>\n      <td>image/Flicker8k_all_resized/3727752439_9077956...</td>\n      <td>一个小女孩在走廊上跑了下来。</td>\n    </tr>\n    <tr>\n      <th>880</th>\n      <td>image/Flicker8k_all_resized/3430607596_7e4f74e...</td>\n      <td>一个女孩在一个海滩上跑过。</td>\n    </tr>\n    <tr>\n      <th>881</th>\n      <td>image/Flicker8k_all_resized/3259666643_ae49524...</td>\n      <td>一个戴着蓝色衬衫和墨镜的女人站在街上。</td>\n    </tr>\n    <tr>\n      <th>882</th>\n      <td>image/Flicker8k_all_resized/2623930900_b9df917...</td>\n      <td>一个女孩在游泳池里被带上了一次。</td>\n    </tr>\n    <tr>\n      <th>883</th>\n      <td>image/Flicker8k_all_resized/3490736665_38710f4...</td>\n      <td>一个人坐在人行道上。</td>\n    </tr>\n  </tbody>\n</table>\n<p>884 rows × 2 columns</p>\n</div>"
     },
     "execution_count": 52,
     "metadata": {},
     "output_type": "execute_result"
    }
   ],
   "source": [
    "df1.columns = ['id', 'sentence']\n",
    "\n",
    "df1"
   ],
   "metadata": {
    "collapsed": false,
    "pycharm": {
     "name": "#%%\n"
    }
   }
  },
  {
   "cell_type": "code",
   "execution_count": 55,
   "outputs": [
    {
     "data": {
      "text/plain": "                            id             sentence\n0    3385593926_d3e9c21170.jpg  在一个粉红色的背心的女孩在滑板上滑动。\n1    2677656448_6b7e7702af.jpg      一个游泳的男孩在游泳池里游泳。\n2     311146855_0b65fdb169.jpg   一个孩子在一个红色的衣服里拿着雨伞。\n3     241347760_d44c8d3a01.jpg  一个穿着红色制服的足球运动员拿着足球。\n4    2654514044_a70a6e2c21.jpg         一只棕色的狗跳到草地上。\n..                         ...                  ...\n879  3727752439_907795603b.jpg       一个小女孩在走廊上跑了下来。\n880  3430607596_7e4f74e3ff.jpg        一个女孩在一个海滩上跑过。\n881  3259666643_ae49524c81.jpg  一个戴着蓝色衬衫和墨镜的女人站在街上。\n882  2623930900_b9df917b82.jpg     一个女孩在游泳池里被带上了一次。\n883  3490736665_38710f4b91.jpg           一个人坐在人行道上。\n\n[884 rows x 2 columns]",
      "text/html": "<div>\n<style scoped>\n    .dataframe tbody tr th:only-of-type {\n        vertical-align: middle;\n    }\n\n    .dataframe tbody tr th {\n        vertical-align: top;\n    }\n\n    .dataframe thead th {\n        text-align: right;\n    }\n</style>\n<table border=\"1\" class=\"dataframe\">\n  <thead>\n    <tr style=\"text-align: right;\">\n      <th></th>\n      <th>id</th>\n      <th>sentence</th>\n    </tr>\n  </thead>\n  <tbody>\n    <tr>\n      <th>0</th>\n      <td>3385593926_d3e9c21170.jpg</td>\n      <td>在一个粉红色的背心的女孩在滑板上滑动。</td>\n    </tr>\n    <tr>\n      <th>1</th>\n      <td>2677656448_6b7e7702af.jpg</td>\n      <td>一个游泳的男孩在游泳池里游泳。</td>\n    </tr>\n    <tr>\n      <th>2</th>\n      <td>311146855_0b65fdb169.jpg</td>\n      <td>一个孩子在一个红色的衣服里拿着雨伞。</td>\n    </tr>\n    <tr>\n      <th>3</th>\n      <td>241347760_d44c8d3a01.jpg</td>\n      <td>一个穿着红色制服的足球运动员拿着足球。</td>\n    </tr>\n    <tr>\n      <th>4</th>\n      <td>2654514044_a70a6e2c21.jpg</td>\n      <td>一只棕色的狗跳到草地上。</td>\n    </tr>\n    <tr>\n      <th>...</th>\n      <td>...</td>\n      <td>...</td>\n    </tr>\n    <tr>\n      <th>879</th>\n      <td>3727752439_907795603b.jpg</td>\n      <td>一个小女孩在走廊上跑了下来。</td>\n    </tr>\n    <tr>\n      <th>880</th>\n      <td>3430607596_7e4f74e3ff.jpg</td>\n      <td>一个女孩在一个海滩上跑过。</td>\n    </tr>\n    <tr>\n      <th>881</th>\n      <td>3259666643_ae49524c81.jpg</td>\n      <td>一个戴着蓝色衬衫和墨镜的女人站在街上。</td>\n    </tr>\n    <tr>\n      <th>882</th>\n      <td>2623930900_b9df917b82.jpg</td>\n      <td>一个女孩在游泳池里被带上了一次。</td>\n    </tr>\n    <tr>\n      <th>883</th>\n      <td>3490736665_38710f4b91.jpg</td>\n      <td>一个人坐在人行道上。</td>\n    </tr>\n  </tbody>\n</table>\n<p>884 rows × 2 columns</p>\n</div>"
     },
     "execution_count": 55,
     "metadata": {},
     "output_type": "execute_result"
    }
   ],
   "source": [
    "result = []\n",
    "for i in df1['id']:\n",
    "    sentence = re.sub(r'image/.*/', \"\", i)\n",
    "    result.append(sentence)\n",
    "\n",
    "df1['id'] = result\n",
    "\n",
    "df1"
   ],
   "metadata": {
    "collapsed": false,
    "pycharm": {
     "name": "#%%\n"
    }
   }
  },
  {
   "cell_type": "code",
   "execution_count": 56,
   "outputs": [],
   "source": [
    "df1.to_csv('././data/autocaption.csv', index=None)"
   ],
   "metadata": {
    "collapsed": false,
    "pycharm": {
     "name": "#%%\n"
    }
   }
  },
  {
   "cell_type": "code",
   "execution_count": 54,
   "outputs": [],
   "source": [],
   "metadata": {
    "collapsed": false,
    "pycharm": {
     "name": "#%%\n"
    }
   }
  }
 ],
 "metadata": {
  "kernelspec": {
   "display_name": "Python 3",
   "language": "python",
   "name": "python3"
  },
  "language_info": {
   "codemirror_mode": {
    "name": "ipython",
    "version": 2
   },
   "file_extension": ".py",
   "mimetype": "text/x-python",
   "name": "python",
   "nbconvert_exporter": "python",
   "pygments_lexer": "ipython2",
   "version": "2.7.6"
  }
 },
 "nbformat": 4,
 "nbformat_minor": 0
}