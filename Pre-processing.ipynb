{
 "cells": [
  {
   "cell_type": "markdown",
   "source": [
    "# Pre-processing"
   ],
   "metadata": {
    "collapsed": false,
    "pycharm": {
     "name": "#%% md\n"
    }
   }
  },
  {
   "cell_type": "code",
   "execution_count": 38,
   "outputs": [],
   "source": [
    "import pandas as pd\n",
    "import re"
   ],
   "metadata": {
    "collapsed": false,
    "pycharm": {
     "name": "#%%\n"
    }
   }
  },
  {
   "cell_type": "code",
   "execution_count": 39,
   "outputs": [
    {
     "data": {
      "text/plain": "                             0    1\n0    3609032038_005c789f64.jpg  4.2\n1     241347204_007d83e252.jpg  3.4\n2    2774554310_007e980a90.jpg  3.6\n3    2431832075_00aa1a4457.jpg  4.0\n4    2419221084_01a14176b4.jpg  4.2\n..                         ...  ...\n879   757046028_ff5999f91b.jpg  2.0\n880  2054869561_ff723e9eab.jpg  1.8\n881  2100816230_ff866fb352.jpg  2.0\n882   929679367_ff8c7df2ee.jpg  2.8\n883   270816949_ffad112278.jpg  2.0\n\n[884 rows x 2 columns]",
      "text/html": "<div>\n<style scoped>\n    .dataframe tbody tr th:only-of-type {\n        vertical-align: middle;\n    }\n\n    .dataframe tbody tr th {\n        vertical-align: top;\n    }\n\n    .dataframe thead th {\n        text-align: right;\n    }\n</style>\n<table border=\"1\" class=\"dataframe\">\n  <thead>\n    <tr style=\"text-align: right;\">\n      <th></th>\n      <th>0</th>\n      <th>1</th>\n    </tr>\n  </thead>\n  <tbody>\n    <tr>\n      <th>0</th>\n      <td>3609032038_005c789f64.jpg</td>\n      <td>4.2</td>\n    </tr>\n    <tr>\n      <th>1</th>\n      <td>241347204_007d83e252.jpg</td>\n      <td>3.4</td>\n    </tr>\n    <tr>\n      <th>2</th>\n      <td>2774554310_007e980a90.jpg</td>\n      <td>3.6</td>\n    </tr>\n    <tr>\n      <th>3</th>\n      <td>2431832075_00aa1a4457.jpg</td>\n      <td>4.0</td>\n    </tr>\n    <tr>\n      <th>4</th>\n      <td>2419221084_01a14176b4.jpg</td>\n      <td>4.2</td>\n    </tr>\n    <tr>\n      <th>...</th>\n      <td>...</td>\n      <td>...</td>\n    </tr>\n    <tr>\n      <th>879</th>\n      <td>757046028_ff5999f91b.jpg</td>\n      <td>2.0</td>\n    </tr>\n    <tr>\n      <th>880</th>\n      <td>2054869561_ff723e9eab.jpg</td>\n      <td>1.8</td>\n    </tr>\n    <tr>\n      <th>881</th>\n      <td>2100816230_ff866fb352.jpg</td>\n      <td>2.0</td>\n    </tr>\n    <tr>\n      <th>882</th>\n      <td>929679367_ff8c7df2ee.jpg</td>\n      <td>2.8</td>\n    </tr>\n    <tr>\n      <th>883</th>\n      <td>270816949_ffad112278.jpg</td>\n      <td>2.0</td>\n    </tr>\n  </tbody>\n</table>\n<p>884 rows × 2 columns</p>\n</div>"
     },
     "execution_count": 39,
     "metadata": {},
     "output_type": "execute_result"
    }
   ],
   "source": [
    "df = pd.read_table('./rawdata/hummanjudgments.txt', sep='\\t', header=None)\n",
    "df"
   ],
   "metadata": {
    "collapsed": false,
    "pycharm": {
     "name": "#%%\n"
    }
   }
  },
  {
   "cell_type": "code",
   "execution_count": 40,
   "outputs": [],
   "source": [
    "df.columns = ['id', 'humanscore']"
   ],
   "metadata": {
    "collapsed": false,
    "pycharm": {
     "name": "#%%\n"
    }
   }
  },
  {
   "cell_type": "code",
   "execution_count": 41,
   "outputs": [
    {
     "data": {
      "text/plain": "                                                     0                    1\n0    image/Flicker8k_all_resized/3385593926_d3e9c21...  在一个粉红色的背心的女孩在滑板上滑动。\n1    image/Flicker8k_all_resized/2677656448_6b7e770...      一个游泳的男孩在游泳池里游泳。\n2    image/Flicker8k_all_resized/311146855_0b65fdb1...   一个孩子在一个红色的衣服里拿着雨伞。\n3    image/Flicker8k_all_resized/241347760_d44c8d3a...  一个穿着红色制服的足球运动员拿着足球。\n4    image/Flicker8k_all_resized/2654514044_a70a6e2...         一只棕色的狗跳到草地上。\n..                                                 ...                  ...\n879  image/Flicker8k_all_resized/3727752439_9077956...       一个小女孩在走廊上跑了下来。\n880  image/Flicker8k_all_resized/3430607596_7e4f74e...        一个女孩在一个海滩上跑过。\n881  image/Flicker8k_all_resized/3259666643_ae49524...  一个戴着蓝色衬衫和墨镜的女人站在街上。\n882  image/Flicker8k_all_resized/2623930900_b9df917...     一个女孩在游泳池里被带上了一次。\n883  image/Flicker8k_all_resized/3490736665_38710f4...           一个人坐在人行道上。\n\n[884 rows x 2 columns]",
      "text/html": "<div>\n<style scoped>\n    .dataframe tbody tr th:only-of-type {\n        vertical-align: middle;\n    }\n\n    .dataframe tbody tr th {\n        vertical-align: top;\n    }\n\n    .dataframe thead th {\n        text-align: right;\n    }\n</style>\n<table border=\"1\" class=\"dataframe\">\n  <thead>\n    <tr style=\"text-align: right;\">\n      <th></th>\n      <th>0</th>\n      <th>1</th>\n    </tr>\n  </thead>\n  <tbody>\n    <tr>\n      <th>0</th>\n      <td>image/Flicker8k_all_resized/3385593926_d3e9c21...</td>\n      <td>在一个粉红色的背心的女孩在滑板上滑动。</td>\n    </tr>\n    <tr>\n      <th>1</th>\n      <td>image/Flicker8k_all_resized/2677656448_6b7e770...</td>\n      <td>一个游泳的男孩在游泳池里游泳。</td>\n    </tr>\n    <tr>\n      <th>2</th>\n      <td>image/Flicker8k_all_resized/311146855_0b65fdb1...</td>\n      <td>一个孩子在一个红色的衣服里拿着雨伞。</td>\n    </tr>\n    <tr>\n      <th>3</th>\n      <td>image/Flicker8k_all_resized/241347760_d44c8d3a...</td>\n      <td>一个穿着红色制服的足球运动员拿着足球。</td>\n    </tr>\n    <tr>\n      <th>4</th>\n      <td>image/Flicker8k_all_resized/2654514044_a70a6e2...</td>\n      <td>一只棕色的狗跳到草地上。</td>\n    </tr>\n    <tr>\n      <th>...</th>\n      <td>...</td>\n      <td>...</td>\n    </tr>\n    <tr>\n      <th>879</th>\n      <td>image/Flicker8k_all_resized/3727752439_9077956...</td>\n      <td>一个小女孩在走廊上跑了下来。</td>\n    </tr>\n    <tr>\n      <th>880</th>\n      <td>image/Flicker8k_all_resized/3430607596_7e4f74e...</td>\n      <td>一个女孩在一个海滩上跑过。</td>\n    </tr>\n    <tr>\n      <th>881</th>\n      <td>image/Flicker8k_all_resized/3259666643_ae49524...</td>\n      <td>一个戴着蓝色衬衫和墨镜的女人站在街上。</td>\n    </tr>\n    <tr>\n      <th>882</th>\n      <td>image/Flicker8k_all_resized/2623930900_b9df917...</td>\n      <td>一个女孩在游泳池里被带上了一次。</td>\n    </tr>\n    <tr>\n      <th>883</th>\n      <td>image/Flicker8k_all_resized/3490736665_38710f4...</td>\n      <td>一个人坐在人行道上。</td>\n    </tr>\n  </tbody>\n</table>\n<p>884 rows × 2 columns</p>\n</div>"
     },
     "execution_count": 41,
     "metadata": {},
     "output_type": "execute_result"
    }
   ],
   "source": [
    "df1 = pd.read_table('./rawdata/autocaption.txt', sep=':', header=None)\n",
    "df1"
   ],
   "metadata": {
    "collapsed": false,
    "pycharm": {
     "name": "#%%\n"
    }
   }
  },
  {
   "cell_type": "code",
   "execution_count": 42,
   "outputs": [],
   "source": [
    "df1.columns = ['id', 'sentence']"
   ],
   "metadata": {
    "collapsed": false,
    "pycharm": {
     "name": "#%%\n"
    }
   }
  },
  {
   "cell_type": "code",
   "execution_count": 43,
   "outputs": [
    {
     "data": {
      "text/plain": "                            id             sentence\n0    3385593926_d3e9c21170.jpg  在一个粉红色的背心的女孩在滑板上滑动。\n1    2677656448_6b7e7702af.jpg      一个游泳的男孩在游泳池里游泳。\n2     311146855_0b65fdb169.jpg   一个孩子在一个红色的衣服里拿着雨伞。\n3     241347760_d44c8d3a01.jpg  一个穿着红色制服的足球运动员拿着足球。\n4    2654514044_a70a6e2c21.jpg         一只棕色的狗跳到草地上。\n..                         ...                  ...\n879  3727752439_907795603b.jpg       一个小女孩在走廊上跑了下来。\n880  3430607596_7e4f74e3ff.jpg        一个女孩在一个海滩上跑过。\n881  3259666643_ae49524c81.jpg  一个戴着蓝色衬衫和墨镜的女人站在街上。\n882  2623930900_b9df917b82.jpg     一个女孩在游泳池里被带上了一次。\n883  3490736665_38710f4b91.jpg           一个人坐在人行道上。\n\n[884 rows x 2 columns]",
      "text/html": "<div>\n<style scoped>\n    .dataframe tbody tr th:only-of-type {\n        vertical-align: middle;\n    }\n\n    .dataframe tbody tr th {\n        vertical-align: top;\n    }\n\n    .dataframe thead th {\n        text-align: right;\n    }\n</style>\n<table border=\"1\" class=\"dataframe\">\n  <thead>\n    <tr style=\"text-align: right;\">\n      <th></th>\n      <th>id</th>\n      <th>sentence</th>\n    </tr>\n  </thead>\n  <tbody>\n    <tr>\n      <th>0</th>\n      <td>3385593926_d3e9c21170.jpg</td>\n      <td>在一个粉红色的背心的女孩在滑板上滑动。</td>\n    </tr>\n    <tr>\n      <th>1</th>\n      <td>2677656448_6b7e7702af.jpg</td>\n      <td>一个游泳的男孩在游泳池里游泳。</td>\n    </tr>\n    <tr>\n      <th>2</th>\n      <td>311146855_0b65fdb169.jpg</td>\n      <td>一个孩子在一个红色的衣服里拿着雨伞。</td>\n    </tr>\n    <tr>\n      <th>3</th>\n      <td>241347760_d44c8d3a01.jpg</td>\n      <td>一个穿着红色制服的足球运动员拿着足球。</td>\n    </tr>\n    <tr>\n      <th>4</th>\n      <td>2654514044_a70a6e2c21.jpg</td>\n      <td>一只棕色的狗跳到草地上。</td>\n    </tr>\n    <tr>\n      <th>...</th>\n      <td>...</td>\n      <td>...</td>\n    </tr>\n    <tr>\n      <th>879</th>\n      <td>3727752439_907795603b.jpg</td>\n      <td>一个小女孩在走廊上跑了下来。</td>\n    </tr>\n    <tr>\n      <th>880</th>\n      <td>3430607596_7e4f74e3ff.jpg</td>\n      <td>一个女孩在一个海滩上跑过。</td>\n    </tr>\n    <tr>\n      <th>881</th>\n      <td>3259666643_ae49524c81.jpg</td>\n      <td>一个戴着蓝色衬衫和墨镜的女人站在街上。</td>\n    </tr>\n    <tr>\n      <th>882</th>\n      <td>2623930900_b9df917b82.jpg</td>\n      <td>一个女孩在游泳池里被带上了一次。</td>\n    </tr>\n    <tr>\n      <th>883</th>\n      <td>3490736665_38710f4b91.jpg</td>\n      <td>一个人坐在人行道上。</td>\n    </tr>\n  </tbody>\n</table>\n<p>884 rows × 2 columns</p>\n</div>"
     },
     "execution_count": 43,
     "metadata": {},
     "output_type": "execute_result"
    }
   ],
   "source": [
    "result = []\n",
    "for i in df1['id']:\n",
    "    sentence = re.sub(r'image/.*/', \"\", i)\n",
    "    result.append(sentence)\n",
    "\n",
    "df1['id'] = result\n",
    "\n",
    "df1"
   ],
   "metadata": {
    "collapsed": false,
    "pycharm": {
     "name": "#%%\n"
    }
   }
  },
  {
   "cell_type": "code",
   "execution_count": 44,
   "outputs": [
    {
     "data": {
      "text/plain": "                            id  humanscore              sentence\n0    3609032038_005c789f64.jpg         4.2   一个人骑着摩托车上的道路是岩石的背景。\n1     241347204_007d83e252.jpg         3.4   两家奥克拉荷马足球运动员越早谈越谈越。\n2    2774554310_007e980a90.jpg         3.6           一个女孩在舞台上跳舞。\n3    2431832075_00aa1a4457.jpg         4.0  一个孩子在一个红色的游戏结构滑了一幅画。\n4    2419221084_01a14176b4.jpg         4.2     一只白色的狗在空中跳跃着一根棍子。\n..                         ...         ...                   ...\n876   757046028_ff5999f91b.jpg         2.0   一个年轻的孩子在一个轮胎秋千上微笑着。\n877  2054869561_ff723e9eab.jpg         1.8         一只白色的狗在空中跳跃着。\n878  2100816230_ff866fb352.jpg         2.0             一个滑雪跳到空中。\n879   929679367_ff8c7df2ee.jpg         2.8             两只狗在户外玩耍。\n880   270816949_ffad112278.jpg         2.0     一个孤独的旅行者走在岩石上的岩石。\n\n[881 rows x 3 columns]",
      "text/html": "<div>\n<style scoped>\n    .dataframe tbody tr th:only-of-type {\n        vertical-align: middle;\n    }\n\n    .dataframe tbody tr th {\n        vertical-align: top;\n    }\n\n    .dataframe thead th {\n        text-align: right;\n    }\n</style>\n<table border=\"1\" class=\"dataframe\">\n  <thead>\n    <tr style=\"text-align: right;\">\n      <th></th>\n      <th>id</th>\n      <th>humanscore</th>\n      <th>sentence</th>\n    </tr>\n  </thead>\n  <tbody>\n    <tr>\n      <th>0</th>\n      <td>3609032038_005c789f64.jpg</td>\n      <td>4.2</td>\n      <td>一个人骑着摩托车上的道路是岩石的背景。</td>\n    </tr>\n    <tr>\n      <th>1</th>\n      <td>241347204_007d83e252.jpg</td>\n      <td>3.4</td>\n      <td>两家奥克拉荷马足球运动员越早谈越谈越。</td>\n    </tr>\n    <tr>\n      <th>2</th>\n      <td>2774554310_007e980a90.jpg</td>\n      <td>3.6</td>\n      <td>一个女孩在舞台上跳舞。</td>\n    </tr>\n    <tr>\n      <th>3</th>\n      <td>2431832075_00aa1a4457.jpg</td>\n      <td>4.0</td>\n      <td>一个孩子在一个红色的游戏结构滑了一幅画。</td>\n    </tr>\n    <tr>\n      <th>4</th>\n      <td>2419221084_01a14176b4.jpg</td>\n      <td>4.2</td>\n      <td>一只白色的狗在空中跳跃着一根棍子。</td>\n    </tr>\n    <tr>\n      <th>...</th>\n      <td>...</td>\n      <td>...</td>\n      <td>...</td>\n    </tr>\n    <tr>\n      <th>876</th>\n      <td>757046028_ff5999f91b.jpg</td>\n      <td>2.0</td>\n      <td>一个年轻的孩子在一个轮胎秋千上微笑着。</td>\n    </tr>\n    <tr>\n      <th>877</th>\n      <td>2054869561_ff723e9eab.jpg</td>\n      <td>1.8</td>\n      <td>一只白色的狗在空中跳跃着。</td>\n    </tr>\n    <tr>\n      <th>878</th>\n      <td>2100816230_ff866fb352.jpg</td>\n      <td>2.0</td>\n      <td>一个滑雪跳到空中。</td>\n    </tr>\n    <tr>\n      <th>879</th>\n      <td>929679367_ff8c7df2ee.jpg</td>\n      <td>2.8</td>\n      <td>两只狗在户外玩耍。</td>\n    </tr>\n    <tr>\n      <th>880</th>\n      <td>270816949_ffad112278.jpg</td>\n      <td>2.0</td>\n      <td>一个孤独的旅行者走在岩石上的岩石。</td>\n    </tr>\n  </tbody>\n</table>\n<p>881 rows × 3 columns</p>\n</div>"
     },
     "execution_count": 44,
     "metadata": {},
     "output_type": "execute_result"
    }
   ],
   "source": [
    "df_train = pd.merge(df, df1, how='inner', on=['id'])\n",
    "df_train"
   ],
   "metadata": {
    "collapsed": false,
    "pycharm": {
     "name": "#%%\n"
    }
   }
  },
  {
   "cell_type": "code",
   "execution_count": 45,
   "outputs": [
    {
     "data": {
      "text/plain": "                            id              sentence  humanscore\n0    3609032038_005c789f64.jpg   一个人骑着摩托车上的道路是岩石的背景。         4.2\n1     241347204_007d83e252.jpg   两家奥克拉荷马足球运动员越早谈越谈越。         3.4\n2    2774554310_007e980a90.jpg           一个女孩在舞台上跳舞。         3.6\n3    2431832075_00aa1a4457.jpg  一个孩子在一个红色的游戏结构滑了一幅画。         4.0\n4    2419221084_01a14176b4.jpg     一只白色的狗在空中跳跃着一根棍子。         4.2\n..                         ...                   ...         ...\n876   757046028_ff5999f91b.jpg   一个年轻的孩子在一个轮胎秋千上微笑着。         2.0\n877  2054869561_ff723e9eab.jpg         一只白色的狗在空中跳跃着。         1.8\n878  2100816230_ff866fb352.jpg             一个滑雪跳到空中。         2.0\n879   929679367_ff8c7df2ee.jpg             两只狗在户外玩耍。         2.8\n880   270816949_ffad112278.jpg     一个孤独的旅行者走在岩石上的岩石。         2.0\n\n[881 rows x 3 columns]",
      "text/html": "<div>\n<style scoped>\n    .dataframe tbody tr th:only-of-type {\n        vertical-align: middle;\n    }\n\n    .dataframe tbody tr th {\n        vertical-align: top;\n    }\n\n    .dataframe thead th {\n        text-align: right;\n    }\n</style>\n<table border=\"1\" class=\"dataframe\">\n  <thead>\n    <tr style=\"text-align: right;\">\n      <th></th>\n      <th>id</th>\n      <th>sentence</th>\n      <th>humanscore</th>\n    </tr>\n  </thead>\n  <tbody>\n    <tr>\n      <th>0</th>\n      <td>3609032038_005c789f64.jpg</td>\n      <td>一个人骑着摩托车上的道路是岩石的背景。</td>\n      <td>4.2</td>\n    </tr>\n    <tr>\n      <th>1</th>\n      <td>241347204_007d83e252.jpg</td>\n      <td>两家奥克拉荷马足球运动员越早谈越谈越。</td>\n      <td>3.4</td>\n    </tr>\n    <tr>\n      <th>2</th>\n      <td>2774554310_007e980a90.jpg</td>\n      <td>一个女孩在舞台上跳舞。</td>\n      <td>3.6</td>\n    </tr>\n    <tr>\n      <th>3</th>\n      <td>2431832075_00aa1a4457.jpg</td>\n      <td>一个孩子在一个红色的游戏结构滑了一幅画。</td>\n      <td>4.0</td>\n    </tr>\n    <tr>\n      <th>4</th>\n      <td>2419221084_01a14176b4.jpg</td>\n      <td>一只白色的狗在空中跳跃着一根棍子。</td>\n      <td>4.2</td>\n    </tr>\n    <tr>\n      <th>...</th>\n      <td>...</td>\n      <td>...</td>\n      <td>...</td>\n    </tr>\n    <tr>\n      <th>876</th>\n      <td>757046028_ff5999f91b.jpg</td>\n      <td>一个年轻的孩子在一个轮胎秋千上微笑着。</td>\n      <td>2.0</td>\n    </tr>\n    <tr>\n      <th>877</th>\n      <td>2054869561_ff723e9eab.jpg</td>\n      <td>一只白色的狗在空中跳跃着。</td>\n      <td>1.8</td>\n    </tr>\n    <tr>\n      <th>878</th>\n      <td>2100816230_ff866fb352.jpg</td>\n      <td>一个滑雪跳到空中。</td>\n      <td>2.0</td>\n    </tr>\n    <tr>\n      <th>879</th>\n      <td>929679367_ff8c7df2ee.jpg</td>\n      <td>两只狗在户外玩耍。</td>\n      <td>2.8</td>\n    </tr>\n    <tr>\n      <th>880</th>\n      <td>270816949_ffad112278.jpg</td>\n      <td>一个孤独的旅行者走在岩石上的岩石。</td>\n      <td>2.0</td>\n    </tr>\n  </tbody>\n</table>\n<p>881 rows × 3 columns</p>\n</div>"
     },
     "execution_count": 45,
     "metadata": {},
     "output_type": "execute_result"
    }
   ],
   "source": [
    "col_name = ['id', 'sentence', 'humanscore']\n",
    "df_train = df_train[col_name]\n",
    "df_train"
   ],
   "metadata": {
    "collapsed": false,
    "pycharm": {
     "name": "#%%\n"
    }
   }
  },
  {
   "cell_type": "code",
   "execution_count": 46,
   "outputs": [],
   "source": [
    "df_train.to_csv('data/train.csv', index=None)"
   ],
   "metadata": {
    "collapsed": false,
    "pycharm": {
     "name": "#%%\n"
    }
   }
  },
  {
   "cell_type": "code",
   "execution_count": 47,
   "outputs": [
    {
     "name": "stderr",
     "output_type": "stream",
     "text": [
      "/Users/crius/opt/anaconda3/envs/python36/lib/python3.6/site-packages/pandas/io/parsers.py:767: ParserWarning: Falling back to the 'python' engine because the 'c' engine does not support regex separators (separators > 1 char and different from '\\s+' are interpreted as regex); you can avoid this warning by specifying engine='python'.\n",
      "  return read_csv(**locals())\n"
     ]
    },
    {
     "ename": "ParserError",
     "evalue": "Expected 4 fields in line 149, saw 6. Error could possibly be due to quotes being ignored when a multi-char delimiter is used.",
     "output_type": "error",
     "traceback": [
      "\u001B[0;31m---------------------------------------------------------------------------\u001B[0m",
      "\u001B[0;31mParserError\u001B[0m                               Traceback (most recent call last)",
      "\u001B[0;32m<ipython-input-47-01dab309627a>\u001B[0m in \u001B[0;36m<module>\u001B[0;34m\u001B[0m\n\u001B[0;32m----> 1\u001B[0;31m \u001B[0mdf2\u001B[0m \u001B[0;34m=\u001B[0m \u001B[0mpd\u001B[0m\u001B[0;34m.\u001B[0m\u001B[0mread_table\u001B[0m\u001B[0;34m(\u001B[0m\u001B[0;34m'./rawdata/references.txt'\u001B[0m\u001B[0;34m,\u001B[0m \u001B[0msep\u001B[0m\u001B[0;34m=\u001B[0m\u001B[0;34m'#|\\s+'\u001B[0m\u001B[0;34m)\u001B[0m\u001B[0;34m\u001B[0m\u001B[0;34m\u001B[0m\u001B[0m\n\u001B[0m\u001B[1;32m      2\u001B[0m \u001B[0mdf2\u001B[0m\u001B[0;34m\u001B[0m\u001B[0;34m\u001B[0m\u001B[0m\n\u001B[1;32m      3\u001B[0m \u001B[0;34m\u001B[0m\u001B[0m\n",
      "\u001B[0;32m~/opt/anaconda3/envs/python36/lib/python3.6/site-packages/pandas/io/parsers.py\u001B[0m in \u001B[0;36mread_table\u001B[0;34m(filepath_or_buffer, sep, delimiter, header, names, index_col, usecols, squeeze, prefix, mangle_dupe_cols, dtype, engine, converters, true_values, false_values, skipinitialspace, skiprows, skipfooter, nrows, na_values, keep_default_na, na_filter, verbose, skip_blank_lines, parse_dates, infer_datetime_format, keep_date_col, date_parser, dayfirst, cache_dates, iterator, chunksize, compression, thousands, decimal, lineterminator, quotechar, quoting, doublequote, escapechar, comment, encoding, dialect, error_bad_lines, warn_bad_lines, delim_whitespace, low_memory, memory_map, float_precision)\u001B[0m\n\u001B[1;32m    765\u001B[0m         \u001B[0;31m# default to avoid a ValueError\u001B[0m\u001B[0;34m\u001B[0m\u001B[0;34m\u001B[0m\u001B[0;34m\u001B[0m\u001B[0m\n\u001B[1;32m    766\u001B[0m         \u001B[0msep\u001B[0m \u001B[0;34m=\u001B[0m \u001B[0;34m\",\"\u001B[0m\u001B[0;34m\u001B[0m\u001B[0;34m\u001B[0m\u001B[0m\n\u001B[0;32m--> 767\u001B[0;31m     \u001B[0;32mreturn\u001B[0m \u001B[0mread_csv\u001B[0m\u001B[0;34m(\u001B[0m\u001B[0;34m**\u001B[0m\u001B[0mlocals\u001B[0m\u001B[0;34m(\u001B[0m\u001B[0;34m)\u001B[0m\u001B[0;34m)\u001B[0m\u001B[0;34m\u001B[0m\u001B[0;34m\u001B[0m\u001B[0m\n\u001B[0m\u001B[1;32m    768\u001B[0m \u001B[0;34m\u001B[0m\u001B[0m\n\u001B[1;32m    769\u001B[0m \u001B[0;34m\u001B[0m\u001B[0m\n",
      "\u001B[0;32m~/opt/anaconda3/envs/python36/lib/python3.6/site-packages/pandas/io/parsers.py\u001B[0m in \u001B[0;36mread_csv\u001B[0;34m(filepath_or_buffer, sep, delimiter, header, names, index_col, usecols, squeeze, prefix, mangle_dupe_cols, dtype, engine, converters, true_values, false_values, skipinitialspace, skiprows, skipfooter, nrows, na_values, keep_default_na, na_filter, verbose, skip_blank_lines, parse_dates, infer_datetime_format, keep_date_col, date_parser, dayfirst, cache_dates, iterator, chunksize, compression, thousands, decimal, lineterminator, quotechar, quoting, doublequote, escapechar, comment, encoding, dialect, error_bad_lines, warn_bad_lines, delim_whitespace, low_memory, memory_map, float_precision)\u001B[0m\n\u001B[1;32m    686\u001B[0m     )\n\u001B[1;32m    687\u001B[0m \u001B[0;34m\u001B[0m\u001B[0m\n\u001B[0;32m--> 688\u001B[0;31m     \u001B[0;32mreturn\u001B[0m \u001B[0m_read\u001B[0m\u001B[0;34m(\u001B[0m\u001B[0mfilepath_or_buffer\u001B[0m\u001B[0;34m,\u001B[0m \u001B[0mkwds\u001B[0m\u001B[0;34m)\u001B[0m\u001B[0;34m\u001B[0m\u001B[0;34m\u001B[0m\u001B[0m\n\u001B[0m\u001B[1;32m    689\u001B[0m \u001B[0;34m\u001B[0m\u001B[0m\n\u001B[1;32m    690\u001B[0m \u001B[0;34m\u001B[0m\u001B[0m\n",
      "\u001B[0;32m~/opt/anaconda3/envs/python36/lib/python3.6/site-packages/pandas/io/parsers.py\u001B[0m in \u001B[0;36m_read\u001B[0;34m(filepath_or_buffer, kwds)\u001B[0m\n\u001B[1;32m    458\u001B[0m \u001B[0;34m\u001B[0m\u001B[0m\n\u001B[1;32m    459\u001B[0m     \u001B[0;32mtry\u001B[0m\u001B[0;34m:\u001B[0m\u001B[0;34m\u001B[0m\u001B[0;34m\u001B[0m\u001B[0m\n\u001B[0;32m--> 460\u001B[0;31m         \u001B[0mdata\u001B[0m \u001B[0;34m=\u001B[0m \u001B[0mparser\u001B[0m\u001B[0;34m.\u001B[0m\u001B[0mread\u001B[0m\u001B[0;34m(\u001B[0m\u001B[0mnrows\u001B[0m\u001B[0;34m)\u001B[0m\u001B[0;34m\u001B[0m\u001B[0;34m\u001B[0m\u001B[0m\n\u001B[0m\u001B[1;32m    461\u001B[0m     \u001B[0;32mfinally\u001B[0m\u001B[0;34m:\u001B[0m\u001B[0;34m\u001B[0m\u001B[0;34m\u001B[0m\u001B[0m\n\u001B[1;32m    462\u001B[0m         \u001B[0mparser\u001B[0m\u001B[0;34m.\u001B[0m\u001B[0mclose\u001B[0m\u001B[0;34m(\u001B[0m\u001B[0;34m)\u001B[0m\u001B[0;34m\u001B[0m\u001B[0;34m\u001B[0m\u001B[0m\n",
      "\u001B[0;32m~/opt/anaconda3/envs/python36/lib/python3.6/site-packages/pandas/io/parsers.py\u001B[0m in \u001B[0;36mread\u001B[0;34m(self, nrows)\u001B[0m\n\u001B[1;32m   1196\u001B[0m     \u001B[0;32mdef\u001B[0m \u001B[0mread\u001B[0m\u001B[0;34m(\u001B[0m\u001B[0mself\u001B[0m\u001B[0;34m,\u001B[0m \u001B[0mnrows\u001B[0m\u001B[0;34m=\u001B[0m\u001B[0;32mNone\u001B[0m\u001B[0;34m)\u001B[0m\u001B[0;34m:\u001B[0m\u001B[0;34m\u001B[0m\u001B[0;34m\u001B[0m\u001B[0m\n\u001B[1;32m   1197\u001B[0m         \u001B[0mnrows\u001B[0m \u001B[0;34m=\u001B[0m \u001B[0m_validate_integer\u001B[0m\u001B[0;34m(\u001B[0m\u001B[0;34m\"nrows\"\u001B[0m\u001B[0;34m,\u001B[0m \u001B[0mnrows\u001B[0m\u001B[0;34m)\u001B[0m\u001B[0;34m\u001B[0m\u001B[0;34m\u001B[0m\u001B[0m\n\u001B[0;32m-> 1198\u001B[0;31m         \u001B[0mret\u001B[0m \u001B[0;34m=\u001B[0m \u001B[0mself\u001B[0m\u001B[0;34m.\u001B[0m\u001B[0m_engine\u001B[0m\u001B[0;34m.\u001B[0m\u001B[0mread\u001B[0m\u001B[0;34m(\u001B[0m\u001B[0mnrows\u001B[0m\u001B[0;34m)\u001B[0m\u001B[0;34m\u001B[0m\u001B[0;34m\u001B[0m\u001B[0m\n\u001B[0m\u001B[1;32m   1199\u001B[0m \u001B[0;34m\u001B[0m\u001B[0m\n\u001B[1;32m   1200\u001B[0m         \u001B[0;31m# May alter columns / col_dict\u001B[0m\u001B[0;34m\u001B[0m\u001B[0;34m\u001B[0m\u001B[0;34m\u001B[0m\u001B[0m\n",
      "\u001B[0;32m~/opt/anaconda3/envs/python36/lib/python3.6/site-packages/pandas/io/parsers.py\u001B[0m in \u001B[0;36mread\u001B[0;34m(self, rows)\u001B[0m\n\u001B[1;32m   2583\u001B[0m             \u001B[0mcontent\u001B[0m \u001B[0;34m=\u001B[0m \u001B[0mcontent\u001B[0m\u001B[0;34m[\u001B[0m\u001B[0;36m1\u001B[0m\u001B[0;34m:\u001B[0m\u001B[0;34m]\u001B[0m\u001B[0;34m\u001B[0m\u001B[0;34m\u001B[0m\u001B[0m\n\u001B[1;32m   2584\u001B[0m \u001B[0;34m\u001B[0m\u001B[0m\n\u001B[0;32m-> 2585\u001B[0;31m         \u001B[0malldata\u001B[0m \u001B[0;34m=\u001B[0m \u001B[0mself\u001B[0m\u001B[0;34m.\u001B[0m\u001B[0m_rows_to_cols\u001B[0m\u001B[0;34m(\u001B[0m\u001B[0mcontent\u001B[0m\u001B[0;34m)\u001B[0m\u001B[0;34m\u001B[0m\u001B[0;34m\u001B[0m\u001B[0m\n\u001B[0m\u001B[1;32m   2586\u001B[0m         \u001B[0mdata\u001B[0m \u001B[0;34m=\u001B[0m \u001B[0mself\u001B[0m\u001B[0;34m.\u001B[0m\u001B[0m_exclude_implicit_index\u001B[0m\u001B[0;34m(\u001B[0m\u001B[0malldata\u001B[0m\u001B[0;34m)\u001B[0m\u001B[0;34m\u001B[0m\u001B[0;34m\u001B[0m\u001B[0m\n\u001B[1;32m   2587\u001B[0m \u001B[0;34m\u001B[0m\u001B[0m\n",
      "\u001B[0;32m~/opt/anaconda3/envs/python36/lib/python3.6/site-packages/pandas/io/parsers.py\u001B[0m in \u001B[0;36m_rows_to_cols\u001B[0;34m(self, content)\u001B[0m\n\u001B[1;32m   3235\u001B[0m                     \u001B[0mmsg\u001B[0m \u001B[0;34m+=\u001B[0m \u001B[0;34m\". \"\u001B[0m \u001B[0;34m+\u001B[0m \u001B[0mreason\u001B[0m\u001B[0;34m\u001B[0m\u001B[0;34m\u001B[0m\u001B[0m\n\u001B[1;32m   3236\u001B[0m \u001B[0;34m\u001B[0m\u001B[0m\n\u001B[0;32m-> 3237\u001B[0;31m                 \u001B[0mself\u001B[0m\u001B[0;34m.\u001B[0m\u001B[0m_alert_malformed\u001B[0m\u001B[0;34m(\u001B[0m\u001B[0mmsg\u001B[0m\u001B[0;34m,\u001B[0m \u001B[0mrow_num\u001B[0m \u001B[0;34m+\u001B[0m \u001B[0;36m1\u001B[0m\u001B[0;34m)\u001B[0m\u001B[0;34m\u001B[0m\u001B[0;34m\u001B[0m\u001B[0m\n\u001B[0m\u001B[1;32m   3238\u001B[0m \u001B[0;34m\u001B[0m\u001B[0m\n\u001B[1;32m   3239\u001B[0m         \u001B[0;31m# see gh-13320\u001B[0m\u001B[0;34m\u001B[0m\u001B[0;34m\u001B[0m\u001B[0;34m\u001B[0m\u001B[0m\n",
      "\u001B[0;32m~/opt/anaconda3/envs/python36/lib/python3.6/site-packages/pandas/io/parsers.py\u001B[0m in \u001B[0;36m_alert_malformed\u001B[0;34m(self, msg, row_num)\u001B[0m\n\u001B[1;32m   2996\u001B[0m         \"\"\"\n\u001B[1;32m   2997\u001B[0m         \u001B[0;32mif\u001B[0m \u001B[0mself\u001B[0m\u001B[0;34m.\u001B[0m\u001B[0merror_bad_lines\u001B[0m\u001B[0;34m:\u001B[0m\u001B[0;34m\u001B[0m\u001B[0;34m\u001B[0m\u001B[0m\n\u001B[0;32m-> 2998\u001B[0;31m             \u001B[0;32mraise\u001B[0m \u001B[0mParserError\u001B[0m\u001B[0;34m(\u001B[0m\u001B[0mmsg\u001B[0m\u001B[0;34m)\u001B[0m\u001B[0;34m\u001B[0m\u001B[0;34m\u001B[0m\u001B[0m\n\u001B[0m\u001B[1;32m   2999\u001B[0m         \u001B[0;32melif\u001B[0m \u001B[0mself\u001B[0m\u001B[0;34m.\u001B[0m\u001B[0mwarn_bad_lines\u001B[0m\u001B[0;34m:\u001B[0m\u001B[0;34m\u001B[0m\u001B[0;34m\u001B[0m\u001B[0m\n\u001B[1;32m   3000\u001B[0m             \u001B[0mbase\u001B[0m \u001B[0;34m=\u001B[0m \u001B[0;34mf\"Skipping line {row_num}: \"\u001B[0m\u001B[0;34m\u001B[0m\u001B[0;34m\u001B[0m\u001B[0m\n",
      "\u001B[0;31mParserError\u001B[0m: Expected 4 fields in line 149, saw 6. Error could possibly be due to quotes being ignored when a multi-char delimiter is used."
     ]
    }
   ],
   "source": [
    "df2 = pd.read_table('./rawdata/references.txt', sep='#|\\s+')\n",
    "df2"
   ],
   "metadata": {
    "collapsed": false,
    "pycharm": {
     "name": "#%%\n"
    }
   }
  },
  {
   "cell_type": "code",
   "execution_count": null,
   "outputs": [],
   "source": [
    "\n"
   ],
   "metadata": {
    "collapsed": false,
    "pycharm": {
     "name": "#%%\n"
    }
   }
  }
 ],
 "metadata": {
  "kernelspec": {
   "display_name": "Python 3",
   "language": "python",
   "name": "python3"
  },
  "language_info": {
   "codemirror_mode": {
    "name": "ipython",
    "version": 2
   },
   "file_extension": ".py",
   "mimetype": "text/x-python",
   "name": "python",
   "nbconvert_exporter": "python",
   "pygments_lexer": "ipython2",
   "version": "2.7.6"
  }
 },
 "nbformat": 4,
 "nbformat_minor": 0
}